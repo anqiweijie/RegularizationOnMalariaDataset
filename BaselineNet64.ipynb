{
  "nbformat": 4,
  "nbformat_minor": 0,
  "metadata": {
    "colab": {
      "name": "PKL BaselineNet64.ipynb",
      "provenance": [],
      "collapsed_sections": []
    },
    "kernelspec": {
      "name": "python3",
      "display_name": "Python 3"
    },
    "accelerator": "GPU"
  },
  "cells": [
    {
      "cell_type": "code",
      "metadata": {
        "id": "lFiUw7DggWsG",
        "colab": {
          "base_uri": "https://localhost:8080/",
          "height": 34
        },
        "outputId": "9518e06b-d970-4411-b8c6-8c69c906d319"
      },
      "source": [
        "import numpy as np\n",
        "import matplotlib.pyplot as plt\n",
        "from PIL import Image\n",
        "import os\n",
        "import cv2\n",
        "import tensorflow as tf\n",
        "import keras\n",
        "from keras.models import Sequential\n",
        "from keras.layers import Conv2D,MaxPooling2D,Dense,Flatten"
      ],
      "execution_count": null,
      "outputs": [
        {
          "output_type": "stream",
          "text": [
            "Using TensorFlow backend.\n"
          ],
          "name": "stderr"
        }
      ]
    },
    {
      "cell_type": "code",
      "metadata": {
        "id": "UeeHbLwU9v11"
      },
      "source": [
        "data=[]\n",
        "labels=[]\n",
        "Parasitized=os.listdir(\"/content/drive/My Drive/Colab Notebooks/Dataset/cell_images/Parasitized/\")\n",
        "for a in Parasitized:\n",
        "    try:\n",
        "        image=cv2.imread(\"/content/drive/My Drive/Colab Notebooks/Dataset/cell_images/Parasitized/\"+a)\n",
        "        image_from_array = Image.fromarray(image, 'RGB')\n",
        "        size_image = image_from_array.resize((64, 64))\n",
        "        data.append(np.array(size_image))\n",
        "        labels.append(0)\n",
        "    except AttributeError:\n",
        "        print(\"\")\n",
        "\n",
        "Uninfected=os.listdir(\"/content/drive/My Drive/Colab Notebooks/Dataset/cell_images/Uninfected/\")\n",
        "for b in Uninfected:\n",
        "    try:\n",
        "        image=cv2.imread(\"/content/drive/My Drive/Colab Notebooks/Dataset/cell_images/Uninfected/\"+b)\n",
        "        image_from_array = Image.fromarray(image, 'RGB')\n",
        "        size_image = image_from_array.resize((64, 64))\n",
        "        data.append(np.array(size_image))\n",
        "        labels.append(1)\n",
        "    except AttributeError:\n",
        "        print(\"\")"
      ],
      "execution_count": null,
      "outputs": []
    },
    {
      "cell_type": "code",
      "metadata": {
        "id": "gIsrtu0vHQzI"
      },
      "source": [
        "Cells=np.array(data)\n",
        "labels=np.array(labels)"
      ],
      "execution_count": null,
      "outputs": []
    },
    {
      "cell_type": "code",
      "metadata": {
        "id": "IAycSC1bHVHd"
      },
      "source": [
        "np.save(\"/content/drive/My Drive/Colab Notebooks/Cells64\",Cells)\n",
        "np.save(\"/content/drive/My Drive/Colab Notebooks/labels64\",labels)"
      ],
      "execution_count": null,
      "outputs": []
    },
    {
      "cell_type": "code",
      "metadata": {
        "id": "Pwl9X2jbgdWd"
      },
      "source": [
        "Cells=np.load(\"/content/drive/My Drive/Colab Notebooks/Cells64.npy\")\n",
        "labels=np.load(\"/content/drive/My Drive/Colab Notebooks/labels64.npy\")"
      ],
      "execution_count": null,
      "outputs": []
    },
    {
      "cell_type": "code",
      "metadata": {
        "id": "K32SB1j8gi_Y"
      },
      "source": [
        "s=np.arange(Cells.shape[0])\n",
        "np.random.shuffle(s)\n",
        "Cells=Cells[s]\n",
        "labels=labels[s]"
      ],
      "execution_count": null,
      "outputs": []
    },
    {
      "cell_type": "code",
      "metadata": {
        "id": "0edlZH18glaL"
      },
      "source": [
        "num_classes=len(np.unique(labels))\n",
        "len_data=len(Cells)"
      ],
      "execution_count": null,
      "outputs": []
    },
    {
      "cell_type": "code",
      "metadata": {
        "id": "u9i1YC2Agn2Q"
      },
      "source": [
        "(x_train,x_test)=Cells[(int)(0.1*len_data):],Cells[:(int)(0.1*len_data)]\n",
        "x_train = x_train.astype('float32')/255 \n",
        "x_test = x_test.astype('float32')/255\n",
        "train_len=len(x_train)\n",
        "test_len=len(x_test)"
      ],
      "execution_count": null,
      "outputs": []
    },
    {
      "cell_type": "code",
      "metadata": {
        "id": "xDAJSKUxgpoo"
      },
      "source": [
        "(y_train,y_test)=labels[(int)(0.1*len_data):],labels[:(int)(0.1*len_data)]"
      ],
      "execution_count": null,
      "outputs": []
    },
    {
      "cell_type": "code",
      "metadata": {
        "id": "BCZbVPrtgq8F"
      },
      "source": [
        "y_train=keras.utils.to_categorical(y_train,num_classes)\n",
        "y_test=keras.utils.to_categorical(y_test,num_classes)"
      ],
      "execution_count": null,
      "outputs": []
    },
    {
      "cell_type": "code",
      "metadata": {
        "id": "3LF0LWejgvUC",
        "colab": {
          "base_uri": "https://localhost:8080/",
          "height": 527
        },
        "outputId": "e22efb55-168d-4c50-b940-bebc5f08058c"
      },
      "source": [
        "model=Sequential()\n",
        "model.add(Conv2D(32,kernel_size=(3,3),padding=\"same\",activation=\"relu\",input_shape=(64,64,3)))\n",
        "model.add(MaxPooling2D(pool_size=2))\n",
        "model.add(Conv2D(64,kernel_size=(3,3),padding=\"same\",activation=\"relu\"))\n",
        "model.add(MaxPooling2D(pool_size=2))\n",
        "model.add(Conv2D(128,kernel_size=(3,3),padding=\"same\",activation=\"relu\"))\n",
        "model.add(MaxPooling2D(pool_size=2))\n",
        "model.add(Conv2D(128,kernel_size=(3,3),padding=\"same\",activation=\"relu\"))\n",
        "model.add(MaxPooling2D(pool_size=2))\n",
        "model.add(Flatten())\n",
        "model.add(Dense(1000,activation=\"relu\"))\n",
        "model.add(Dense(2,activation=\"softmax\"))\n",
        "model.summary()"
      ],
      "execution_count": null,
      "outputs": [
        {
          "output_type": "stream",
          "text": [
            "Model: \"sequential_2\"\n",
            "_________________________________________________________________\n",
            "Layer (type)                 Output Shape              Param #   \n",
            "=================================================================\n",
            "conv2d_5 (Conv2D)            (None, 64, 64, 32)        896       \n",
            "_________________________________________________________________\n",
            "max_pooling2d_5 (MaxPooling2 (None, 32, 32, 32)        0         \n",
            "_________________________________________________________________\n",
            "conv2d_6 (Conv2D)            (None, 32, 32, 64)        18496     \n",
            "_________________________________________________________________\n",
            "max_pooling2d_6 (MaxPooling2 (None, 16, 16, 64)        0         \n",
            "_________________________________________________________________\n",
            "conv2d_7 (Conv2D)            (None, 16, 16, 128)       73856     \n",
            "_________________________________________________________________\n",
            "max_pooling2d_7 (MaxPooling2 (None, 8, 8, 128)         0         \n",
            "_________________________________________________________________\n",
            "conv2d_8 (Conv2D)            (None, 8, 8, 128)         147584    \n",
            "_________________________________________________________________\n",
            "max_pooling2d_8 (MaxPooling2 (None, 4, 4, 128)         0         \n",
            "_________________________________________________________________\n",
            "flatten_2 (Flatten)          (None, 2048)              0         \n",
            "_________________________________________________________________\n",
            "dense_3 (Dense)              (None, 1000)              2049000   \n",
            "_________________________________________________________________\n",
            "dense_4 (Dense)              (None, 2)                 2002      \n",
            "=================================================================\n",
            "Total params: 2,291,834\n",
            "Trainable params: 2,291,834\n",
            "Non-trainable params: 0\n",
            "_________________________________________________________________\n"
          ],
          "name": "stdout"
        }
      ]
    },
    {
      "cell_type": "code",
      "metadata": {
        "id": "7Qy_GYi1gyAT"
      },
      "source": [
        "model.compile(loss='categorical_crossentropy', optimizer='adam', metrics=['accuracy'])"
      ],
      "execution_count": null,
      "outputs": []
    },
    {
      "cell_type": "code",
      "metadata": {
        "id": "H69HdrGBg151",
        "colab": {
          "base_uri": "https://localhost:8080/",
          "height": 714
        },
        "outputId": "31a6a391-7ace-4554-861f-db72e62c554b"
      },
      "source": [
        "history = model.fit(x = x_train, y = y_train,\n",
        "                    epochs = 20, validation_data = (x_test,y_test),\n",
        "                    verbose = 1)"
      ],
      "execution_count": null,
      "outputs": [
        {
          "output_type": "stream",
          "text": [
            "Train on 24803 samples, validate on 2755 samples\n",
            "Epoch 1/20\n",
            "24803/24803 [==============================] - 6s 245us/step - loss: 0.3535 - accuracy: 0.8093 - val_loss: 0.1542 - val_accuracy: 0.9492\n",
            "Epoch 2/20\n",
            "24803/24803 [==============================] - 6s 234us/step - loss: 0.1312 - accuracy: 0.9579 - val_loss: 0.1407 - val_accuracy: 0.9495\n",
            "Epoch 3/20\n",
            "24803/24803 [==============================] - 6s 234us/step - loss: 0.1195 - accuracy: 0.9607 - val_loss: 0.1378 - val_accuracy: 0.9528\n",
            "Epoch 4/20\n",
            "24803/24803 [==============================] - 6s 237us/step - loss: 0.1113 - accuracy: 0.9630 - val_loss: 0.1330 - val_accuracy: 0.9561\n",
            "Epoch 5/20\n",
            "24803/24803 [==============================] - 6s 234us/step - loss: 0.1047 - accuracy: 0.9645 - val_loss: 0.1281 - val_accuracy: 0.9583\n",
            "Epoch 6/20\n",
            "24803/24803 [==============================] - 6s 235us/step - loss: 0.0960 - accuracy: 0.9673 - val_loss: 0.1214 - val_accuracy: 0.9590\n",
            "Epoch 7/20\n",
            "24803/24803 [==============================] - 6s 236us/step - loss: 0.0881 - accuracy: 0.9689 - val_loss: 0.1220 - val_accuracy: 0.9554\n",
            "Epoch 8/20\n",
            "24803/24803 [==============================] - 6s 229us/step - loss: 0.0809 - accuracy: 0.9704 - val_loss: 0.1308 - val_accuracy: 0.9550\n",
            "Epoch 9/20\n",
            "24803/24803 [==============================] - 6s 234us/step - loss: 0.0698 - accuracy: 0.9756 - val_loss: 0.1448 - val_accuracy: 0.9561\n",
            "Epoch 10/20\n",
            "24803/24803 [==============================] - 6s 236us/step - loss: 0.0569 - accuracy: 0.9798 - val_loss: 0.1702 - val_accuracy: 0.9561\n",
            "Epoch 11/20\n",
            "24803/24803 [==============================] - 6s 233us/step - loss: 0.0526 - accuracy: 0.9824 - val_loss: 0.1543 - val_accuracy: 0.9517\n",
            "Epoch 12/20\n",
            "24803/24803 [==============================] - 6s 234us/step - loss: 0.0414 - accuracy: 0.9848 - val_loss: 0.2016 - val_accuracy: 0.9561\n",
            "Epoch 13/20\n",
            "24803/24803 [==============================] - 6s 235us/step - loss: 0.0339 - accuracy: 0.9884 - val_loss: 0.2356 - val_accuracy: 0.9557\n",
            "Epoch 14/20\n",
            "24803/24803 [==============================] - 6s 234us/step - loss: 0.0272 - accuracy: 0.9901 - val_loss: 0.2113 - val_accuracy: 0.9568\n",
            "Epoch 15/20\n",
            "24803/24803 [==============================] - 6s 231us/step - loss: 0.0236 - accuracy: 0.9919 - val_loss: 0.2889 - val_accuracy: 0.9564\n",
            "Epoch 16/20\n",
            "24803/24803 [==============================] - 6s 232us/step - loss: 0.0276 - accuracy: 0.9901 - val_loss: 0.2879 - val_accuracy: 0.9499\n",
            "Epoch 17/20\n",
            "24803/24803 [==============================] - 6s 235us/step - loss: 0.0163 - accuracy: 0.9943 - val_loss: 0.3066 - val_accuracy: 0.9528\n",
            "Epoch 18/20\n",
            "24803/24803 [==============================] - 6s 237us/step - loss: 0.0203 - accuracy: 0.9933 - val_loss: 0.3293 - val_accuracy: 0.9514\n",
            "Epoch 19/20\n",
            "24803/24803 [==============================] - 6s 232us/step - loss: 0.0225 - accuracy: 0.9930 - val_loss: 0.2827 - val_accuracy: 0.9528\n",
            "Epoch 20/20\n",
            "24803/24803 [==============================] - 6s 236us/step - loss: 0.0124 - accuracy: 0.9958 - val_loss: 0.3992 - val_accuracy: 0.9539\n"
          ],
          "name": "stdout"
        }
      ]
    },
    {
      "cell_type": "code",
      "metadata": {
        "id": "IBYZcm5dg6lB"
      },
      "source": [
        "model.save(\"/content/drive/My Drive/Colab Notebooks/Baselinenet64/BaselineNet64.h5\")"
      ],
      "execution_count": null,
      "outputs": []
    },
    {
      "cell_type": "code",
      "metadata": {
        "id": "rA2kRfsdiVdq"
      },
      "source": [
        "from sklearn.metrics import confusion_matrix\n",
        "pred = model.predict(x_test)\n",
        "pred = np.argmax(pred,axis = 1) \n",
        "y_true = np.argmax(y_test,axis = 1)"
      ],
      "execution_count": null,
      "outputs": []
    },
    {
      "cell_type": "code",
      "metadata": {
        "id": "u4vriQ1hiVpI",
        "colab": {
          "base_uri": "https://localhost:8080/",
          "height": 334
        },
        "outputId": "b3918809-38c1-4877-b127-35f137fce8a1"
      },
      "source": [
        "CM = confusion_matrix(y_true, pred)\n",
        "from mlxtend.plotting import plot_confusion_matrix\n",
        "fig, ax = plot_confusion_matrix(conf_mat=CM ,  figsize=(5, 5))\n",
        "plt.show()"
      ],
      "execution_count": null,
      "outputs": [
        {
          "output_type": "display_data",
          "data": {
            "image/png": "[encoded data removed]",
            "text/plain": [
              "<Figure size 360x360 with 1 Axes>"
            ]
          },
          "metadata": {
            "tags": [],
            "needs_background": "light"
          }
        }
      ]
    }
  ]
}