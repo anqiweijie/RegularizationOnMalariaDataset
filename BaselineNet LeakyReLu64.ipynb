{
  "nbformat": 4,
  "nbformat_minor": 0,
  "metadata": {
    "colab": {
      "name": "PKL BaselineNet LeakyReLu64.ipynb",
      "provenance": [],
      "collapsed_sections": []
    },
    "kernelspec": {
      "name": "python3",
      "display_name": "Python 3"
    },
    "accelerator": "GPU"
  },
  "cells": [
    {
      "cell_type": "code",
      "metadata": {
        "id": "-2XmovVEyIE3"
      },
      "source": [
        "import numpy as np\n",
        "import matplotlib.pyplot as plt\n",
        "from PIL import Image\n",
        "import os\n",
        "import cv2\n",
        "import tensorflow as tf\n",
        "import keras\n",
        "from keras.models import Sequential\n",
        "from keras.layers import Conv2D,MaxPooling2D,Dense,Flatten,Dropout,LeakyReLU"
      ],
      "execution_count": null,
      "outputs": []
    },
    {
      "cell_type": "code",
      "metadata": {
        "id": "UeeHbLwU9v11"
      },
      "source": [
        "data=[]\n",
        "labels=[]\n",
        "Parasitized=os.listdir(\"/content/drive/My Drive/Colab Notebooks/Dataset/cell_images/Parasitized/\")\n",
        "for a in Parasitized:\n",
        "    try:\n",
        "        image=cv2.imread(\"/content/drive/My Drive/Colab Notebooks/Dataset/cell_images/Parasitized/\"+a)\n",
        "        image_from_array = Image.fromarray(image, 'RGB')\n",
        "        size_image = image_from_array.resize((64, 64))\n",
        "        data.append(np.array(size_image))\n",
        "        labels.append(0)\n",
        "    except AttributeError:\n",
        "        print(\"\")\n",
        "\n",
        "Uninfected=os.listdir(\"/content/drive/My Drive/Colab Notebooks/Dataset/cell_images/Uninfected/\")\n",
        "for b in Uninfected:\n",
        "    try:\n",
        "        image=cv2.imread(\"/content/drive/My Drive/Colab Notebooks/Dataset/cell_images/Uninfected/\"+b)\n",
        "        image_from_array = Image.fromarray(image, 'RGB')\n",
        "        size_image = image_from_array.resize((64, 64))\n",
        "        data.append(np.array(size_image))\n",
        "        labels.append(1)\n",
        "    except AttributeError:\n",
        "        print(\"\")"
      ],
      "execution_count": null,
      "outputs": []
    },
    {
      "cell_type": "code",
      "metadata": {
        "id": "gIsrtu0vHQzI"
      },
      "source": [
        "Cells=np.array(data)\n",
        "labels=np.array(labels)"
      ],
      "execution_count": null,
      "outputs": []
    },
    {
      "cell_type": "code",
      "metadata": {
        "id": "IAycSC1bHVHd"
      },
      "source": [
        "np.save(\"/content/drive/My Drive/Colab Notebooks/Cells64\",Cells)\n",
        "np.save(\"/content/drive/My Drive/Colab Notebooks/labels64\",labels)"
      ],
      "execution_count": null,
      "outputs": []
    },
    {
      "cell_type": "code",
      "metadata": {
        "id": "ZnnEOBHFyRbp"
      },
      "source": [
        "Cells=np.load(\"/content/drive/My Drive/Colab Notebooks/Cells64.npy\")\n",
        "labels=np.load(\"/content/drive/My Drive/Colab Notebooks/labels64.npy\")"
      ],
      "execution_count": null,
      "outputs": []
    },
    {
      "cell_type": "code",
      "metadata": {
        "id": "7Zx7alHHyRnW"
      },
      "source": [
        "s=np.arange(Cells.shape[0])\n",
        "np.random.shuffle(s)\n",
        "Cells=Cells[s]\n",
        "labels=labels[s]"
      ],
      "execution_count": null,
      "outputs": []
    },
    {
      "cell_type": "code",
      "metadata": {
        "id": "mI-FsGnlySxB"
      },
      "source": [
        "num_classes=len(np.unique(labels))\n",
        "len_data=len(Cells)"
      ],
      "execution_count": null,
      "outputs": []
    },
    {
      "cell_type": "code",
      "metadata": {
        "id": "OWWBcgu3yUA-"
      },
      "source": [
        "(x_train,x_test)=Cells[(int)(0.1*len_data):],Cells[:(int)(0.1*len_data)]\n",
        "x_train = x_train.astype('float32')/255\n",
        "x_test = x_test.astype('float32')/255\n",
        "train_len=len(x_train)\n",
        "test_len=len(x_test)"
      ],
      "execution_count": null,
      "outputs": []
    },
    {
      "cell_type": "code",
      "metadata": {
        "id": "LWbvPI6ryVHl"
      },
      "source": [
        "(y_train,y_test)=labels[(int)(0.1*len_data):],labels[:(int)(0.1*len_data)]"
      ],
      "execution_count": null,
      "outputs": []
    },
    {
      "cell_type": "code",
      "metadata": {
        "id": "va4GVNwFyWZS"
      },
      "source": [
        "y_train=keras.utils.to_categorical(y_train,num_classes)\n",
        "y_test=keras.utils.to_categorical(y_test,num_classes)"
      ],
      "execution_count": null,
      "outputs": []
    },
    {
      "cell_type": "code",
      "metadata": {
        "id": "UF0XP0f6yX0t"
      },
      "source": [
        "from keras.preprocessing.image import ImageDataGenerator\n",
        " \n",
        "datagen = ImageDataGenerator(\n",
        "        featurewise_center=False,\n",
        "        samplewise_center=False,\n",
        "        featurewise_std_normalization=False,\n",
        "        samplewise_std_normalization=False,\n",
        "        zca_whitening=False,  \n",
        "        rotation_range=10,\n",
        "        zoom_range = 0.1,  \n",
        "        width_shift_range=0.1,\n",
        "        height_shift_range=0.1,\n",
        "        horizontal_flip=False,  \n",
        "        vertical_flip=False)  \n",
        " \n",
        "datagen.fit(x_train)"
      ],
      "execution_count": null,
      "outputs": []
    },
    {
      "cell_type": "code",
      "metadata": {
        "id": "oXyrg4q3ya0U",
        "colab": {
          "base_uri": "https://localhost:8080/",
          "height": 731
        },
        "outputId": "59cafebc-0034-444e-be8b-3df168da614e"
      },
      "source": [
        "model=Sequential()\n",
        "model.add(Conv2D(filters=32,kernel_size=(3,3),padding=\"same\",input_shape=(64,64,3)))\n",
        "model.add(LeakyReLU())\n",
        "model.add(MaxPooling2D(pool_size=2))\n",
        "model.add(Conv2D(filters=64,kernel_size=(3,3),padding=\"same\"))\n",
        "model.add(LeakyReLU())\n",
        "model.add(MaxPooling2D(pool_size=2))\n",
        "model.add(Conv2D(filters=128,kernel_size=(3,3),padding=\"same\"))\n",
        "model.add(LeakyReLU())\n",
        "model.add(MaxPooling2D(pool_size=2))\n",
        "model.add(Conv2D(filters=128,kernel_size=(3,3),padding=\"same\"))\n",
        "model.add(LeakyReLU())\n",
        "model.add(MaxPooling2D(pool_size=2))\n",
        "model.add(Flatten())\n",
        "model.add(Dense(1000))\n",
        "model.add(LeakyReLU())\n",
        "model.add(Dropout(0.2))\n",
        "model.add(Dense(2,activation=\"softmax\"))\n",
        "model.summary()"
      ],
      "execution_count": null,
      "outputs": [
        {
          "output_type": "stream",
          "text": [
            "Model: \"sequential_3\"\n",
            "_________________________________________________________________\n",
            "Layer (type)                 Output Shape              Param #   \n",
            "=================================================================\n",
            "conv2d_6 (Conv2D)            (None, 64, 64, 32)        896       \n",
            "_________________________________________________________________\n",
            "leaky_re_lu_6 (LeakyReLU)    (None, 64, 64, 32)        0         \n",
            "_________________________________________________________________\n",
            "max_pooling2d_5 (MaxPooling2 (None, 32, 32, 32)        0         \n",
            "_________________________________________________________________\n",
            "conv2d_7 (Conv2D)            (None, 32, 32, 64)        18496     \n",
            "_________________________________________________________________\n",
            "leaky_re_lu_7 (LeakyReLU)    (None, 32, 32, 64)        0         \n",
            "_________________________________________________________________\n",
            "max_pooling2d_6 (MaxPooling2 (None, 16, 16, 64)        0         \n",
            "_________________________________________________________________\n",
            "conv2d_8 (Conv2D)            (None, 16, 16, 128)       73856     \n",
            "_________________________________________________________________\n",
            "leaky_re_lu_8 (LeakyReLU)    (None, 16, 16, 128)       0         \n",
            "_________________________________________________________________\n",
            "max_pooling2d_7 (MaxPooling2 (None, 8, 8, 128)         0         \n",
            "_________________________________________________________________\n",
            "conv2d_9 (Conv2D)            (None, 8, 8, 128)         147584    \n",
            "_________________________________________________________________\n",
            "leaky_re_lu_9 (LeakyReLU)    (None, 8, 8, 128)         0         \n",
            "_________________________________________________________________\n",
            "max_pooling2d_8 (MaxPooling2 (None, 4, 4, 128)         0         \n",
            "_________________________________________________________________\n",
            "flatten_2 (Flatten)          (None, 2048)              0         \n",
            "_________________________________________________________________\n",
            "dense_3 (Dense)              (None, 1000)              2049000   \n",
            "_________________________________________________________________\n",
            "leaky_re_lu_10 (LeakyReLU)   (None, 1000)              0         \n",
            "_________________________________________________________________\n",
            "dropout_2 (Dropout)          (None, 1000)              0         \n",
            "_________________________________________________________________\n",
            "dense_4 (Dense)              (None, 2)                 2002      \n",
            "=================================================================\n",
            "Total params: 2,291,834\n",
            "Trainable params: 2,291,834\n",
            "Non-trainable params: 0\n",
            "_________________________________________________________________\n"
          ],
          "name": "stdout"
        }
      ]
    },
    {
      "cell_type": "code",
      "metadata": {
        "id": "icdDIx472WiY"
      },
      "source": [
        "model.compile(loss='categorical_crossentropy', optimizer='adam', metrics=['accuracy'])"
      ],
      "execution_count": null,
      "outputs": []
    },
    {
      "cell_type": "code",
      "metadata": {
        "id": "eQeq6RHo2Xhf",
        "colab": {
          "base_uri": "https://localhost:8080/",
          "height": 714
        },
        "outputId": "22862a90-4f20-4781-ef5a-a76d2c7a8775"
      },
      "source": [
        "history = model.fit(x = x_train, y = y_train,\n",
        "                    epochs = 20, validation_data = (x_test,y_test),\n",
        "                    verbose = 1)"
      ],
      "execution_count": null,
      "outputs": [
        {
          "output_type": "stream",
          "text": [
            "Train on 24803 samples, validate on 2755 samples\n",
            "Epoch 1/20\n",
            "24803/24803 [==============================] - 9s 369us/step - loss: 0.2593 - accuracy: 0.8849 - val_loss: 0.1294 - val_accuracy: 0.9641\n",
            "Epoch 2/20\n",
            "24803/24803 [==============================] - 9s 367us/step - loss: 0.1372 - accuracy: 0.9543 - val_loss: 0.1178 - val_accuracy: 0.9623\n",
            "Epoch 3/20\n",
            "24803/24803 [==============================] - 9s 358us/step - loss: 0.1307 - accuracy: 0.9557 - val_loss: 0.1103 - val_accuracy: 0.9637\n",
            "Epoch 4/20\n",
            "24803/24803 [==============================] - 9s 358us/step - loss: 0.1227 - accuracy: 0.9588 - val_loss: 0.1096 - val_accuracy: 0.9652\n",
            "Epoch 5/20\n",
            "24803/24803 [==============================] - 9s 351us/step - loss: 0.1153 - accuracy: 0.9615 - val_loss: 0.1167 - val_accuracy: 0.9626\n",
            "Epoch 6/20\n",
            "24803/24803 [==============================] - 9s 355us/step - loss: 0.1086 - accuracy: 0.9624 - val_loss: 0.1186 - val_accuracy: 0.9633\n",
            "Epoch 7/20\n",
            "24803/24803 [==============================] - 9s 360us/step - loss: 0.0985 - accuracy: 0.9666 - val_loss: 0.1298 - val_accuracy: 0.9597\n",
            "Epoch 8/20\n",
            "24803/24803 [==============================] - 9s 356us/step - loss: 0.0883 - accuracy: 0.9683 - val_loss: 0.1235 - val_accuracy: 0.9637\n",
            "Epoch 9/20\n",
            "24803/24803 [==============================] - 9s 354us/step - loss: 0.0690 - accuracy: 0.9761 - val_loss: 0.1476 - val_accuracy: 0.9604\n",
            "Epoch 10/20\n",
            "24803/24803 [==============================] - 9s 355us/step - loss: 0.0650 - accuracy: 0.9776 - val_loss: 0.1453 - val_accuracy: 0.9586\n",
            "Epoch 11/20\n",
            "24803/24803 [==============================] - 9s 358us/step - loss: 0.0522 - accuracy: 0.9821 - val_loss: 0.1699 - val_accuracy: 0.9601\n",
            "Epoch 12/20\n",
            "24803/24803 [==============================] - 9s 359us/step - loss: 0.0443 - accuracy: 0.9850 - val_loss: 0.2050 - val_accuracy: 0.9485\n",
            "Epoch 13/20\n",
            "24803/24803 [==============================] - 9s 362us/step - loss: 0.0394 - accuracy: 0.9874 - val_loss: 0.3668 - val_accuracy: 0.9405\n",
            "Epoch 14/20\n",
            "24803/24803 [==============================] - 9s 360us/step - loss: 0.0328 - accuracy: 0.9892 - val_loss: 0.2419 - val_accuracy: 0.9608\n",
            "Epoch 15/20\n",
            "24803/24803 [==============================] - 9s 355us/step - loss: 0.0346 - accuracy: 0.9883 - val_loss: 0.2313 - val_accuracy: 0.9641\n",
            "Epoch 16/20\n",
            "24803/24803 [==============================] - 9s 355us/step - loss: 0.0348 - accuracy: 0.9882 - val_loss: 0.3026 - val_accuracy: 0.9539\n",
            "Epoch 17/20\n",
            "24803/24803 [==============================] - 9s 355us/step - loss: 0.0365 - accuracy: 0.9881 - val_loss: 0.3394 - val_accuracy: 0.9543\n",
            "Epoch 18/20\n",
            "24803/24803 [==============================] - 9s 357us/step - loss: 0.0413 - accuracy: 0.9881 - val_loss: 0.2796 - val_accuracy: 0.9615\n",
            "Epoch 19/20\n",
            "24803/24803 [==============================] - 9s 356us/step - loss: 0.0200 - accuracy: 0.9940 - val_loss: 0.3560 - val_accuracy: 0.9593\n",
            "Epoch 20/20\n",
            "24803/24803 [==============================] - 9s 354us/step - loss: 0.0263 - accuracy: 0.9921 - val_loss: 0.3785 - val_accuracy: 0.9590\n"
          ],
          "name": "stdout"
        }
      ]
    },
    {
      "cell_type": "code",
      "metadata": {
        "id": "mIhk3a041WIO"
      },
      "source": [
        "model.save(\"/content/drive/My Drive/Colab Notebooks/Baselinenet_leakyrelu64/BaselineNetLeakyReLu64.h5\")"
      ],
      "execution_count": null,
      "outputs": []
    },
    {
      "cell_type": "code",
      "metadata": {
        "id": "gycQrt0T1ZPF"
      },
      "source": [
        "from sklearn.metrics import confusion_matrix\n",
        "pred = model.predict(x_test)\n",
        "pred = np.argmax(pred,axis = 1) \n",
        "y_true = np.argmax(y_test,axis = 1)"
      ],
      "execution_count": null,
      "outputs": []
    },
    {
      "cell_type": "code",
      "metadata": {
        "id": "b0PIPNFk1cC7",
        "colab": {
          "base_uri": "https://localhost:8080/",
          "height": 334
        },
        "outputId": "0f7d2d4b-a20b-4dd6-8ce8-369e5bbe958b"
      },
      "source": [
        "CM = confusion_matrix(y_true, pred)\n",
        "from mlxtend.plotting import plot_confusion_matrix\n",
        "fig, ax = plot_confusion_matrix(conf_mat=CM ,  figsize=(5, 5))\n",
        "plt.show()"
      ],
      "execution_count": null,
      "outputs": [
        {
          "output_type": "display_data",
          "data": {
            "image/png": "[encoded data removed]",
            "text/plain": [
              "<Figure size 360x360 with 1 Axes>"
            ]
          },
          "metadata": {
            "tags": [],
            "needs_background": "light"
          }
        }
      ]
    }
  ]
}