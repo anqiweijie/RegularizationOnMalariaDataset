{
  "nbformat": 4,
  "nbformat_minor": 0,
  "metadata": {
    "colab": {
      "name": "PKL ShallowNet Adam64.ipynb",
      "provenance": [],
      "collapsed_sections": []
    },
    "kernelspec": {
      "name": "python3",
      "display_name": "Python 3"
    },
    "accelerator": "GPU"
  },
  "cells": [
    {
      "cell_type": "code",
      "metadata": {
        "id": "6cZiH5JBTITn"
      },
      "source": [
        "import numpy as np\n",
        "import matplotlib.pyplot as plt\n",
        "from PIL import Image\n",
        "import os\n",
        "import cv2\n",
        "import tensorflow as tf\n",
        "import keras\n",
        "from keras.models import Sequential\n",
        "from keras.layers import Conv2D,Activation,MaxPooling2D,Dense,Flatten"
      ],
      "execution_count": null,
      "outputs": []
    },
    {
      "cell_type": "code",
      "metadata": {
        "id": "UeeHbLwU9v11"
      },
      "source": [
        "data=[]\n",
        "labels=[]\n",
        "Parasitized=os.listdir(\"/content/drive/My Drive/Colab Notebooks/Dataset/cell_images/Parasitized/\")\n",
        "for a in Parasitized:\n",
        "    try:\n",
        "        image=cv2.imread(\"/content/drive/My Drive/Colab Notebooks/Dataset/cell_images/Parasitized/\"+a)\n",
        "        image_from_array = Image.fromarray(image, 'RGB')\n",
        "        size_image = image_from_array.resize((64, 64))\n",
        "        data.append(np.array(size_image))\n",
        "        labels.append(0)\n",
        "    except AttributeError:\n",
        "        print(\"\")\n",
        "\n",
        "Uninfected=os.listdir(\"/content/drive/My Drive/Colab Notebooks/Dataset/cell_images/Uninfected/\")\n",
        "for b in Uninfected:\n",
        "    try:\n",
        "        image=cv2.imread(\"/content/drive/My Drive/Colab Notebooks/Dataset/cell_images/Uninfected/\"+b)\n",
        "        image_from_array = Image.fromarray(image, 'RGB')\n",
        "        size_image = image_from_array.resize((64, 64))\n",
        "        data.append(np.array(size_image))\n",
        "        labels.append(1)\n",
        "    except AttributeError:\n",
        "        print(\"\")"
      ],
      "execution_count": null,
      "outputs": []
    },
    {
      "cell_type": "code",
      "metadata": {
        "id": "gIsrtu0vHQzI"
      },
      "source": [
        "Cells=np.array(data)\n",
        "labels=np.array(labels)"
      ],
      "execution_count": null,
      "outputs": []
    },
    {
      "cell_type": "code",
      "metadata": {
        "id": "IAycSC1bHVHd"
      },
      "source": [
        "np.save(\"/content/drive/My Drive/Colab Notebooks/Cells64\",Cells)\n",
        "np.save(\"/content/drive/My Drive/Colab Notebooks/labels64\",labels)"
      ],
      "execution_count": null,
      "outputs": []
    },
    {
      "cell_type": "code",
      "metadata": {
        "id": "_Z4HupJiT-sI"
      },
      "source": [
        "Cells=np.load(\"/content/drive/My Drive/Colab Notebooks/Cells64.npy\")\n",
        "labels=np.load(\"/content/drive/My Drive/Colab Notebooks/labels64.npy\")"
      ],
      "execution_count": null,
      "outputs": []
    },
    {
      "cell_type": "code",
      "metadata": {
        "id": "OLW5CKaLUACk"
      },
      "source": [
        "s=np.arange(Cells.shape[0])\n",
        "np.random.shuffle(s)\n",
        "Cells=Cells[s]\n",
        "labels=labels[s]"
      ],
      "execution_count": null,
      "outputs": []
    },
    {
      "cell_type": "code",
      "metadata": {
        "id": "WDw9v2EPUANa"
      },
      "source": [
        "num_classes=len(np.unique(labels))\n",
        "len_data=len(Cells)"
      ],
      "execution_count": null,
      "outputs": []
    },
    {
      "cell_type": "code",
      "metadata": {
        "id": "WO5RyqhrUBRD"
      },
      "source": [
        "(x_train,x_test)=Cells[(int)(0.1*len_data):],Cells[:(int)(0.1*len_data)]\n",
        "x_train = x_train.astype('float32')/255\n",
        "x_test = x_test.astype('float32')/255\n",
        "train_len=len(x_train)\n",
        "test_len=len(x_test)"
      ],
      "execution_count": null,
      "outputs": []
    },
    {
      "cell_type": "code",
      "metadata": {
        "id": "dukH84OhUDMJ"
      },
      "source": [
        "(y_train,y_test)=labels[(int)(0.1*len_data):],labels[:(int)(0.1*len_data)]"
      ],
      "execution_count": null,
      "outputs": []
    },
    {
      "cell_type": "code",
      "metadata": {
        "id": "MbXi4aAIUEmd"
      },
      "source": [
        "y_train=keras.utils.to_categorical(y_train,num_classes)\n",
        "y_test=keras.utils.to_categorical(y_test,num_classes)"
      ],
      "execution_count": null,
      "outputs": []
    },
    {
      "cell_type": "code",
      "metadata": {
        "id": "_N5hcIGYUKI4",
        "colab": {
          "base_uri": "https://localhost:8080/",
          "height": 425
        },
        "outputId": "5de3a024-c460-401e-f845-9ba8b8a675ee"
      },
      "source": [
        "model = Sequential()\n",
        "inputShape = (64, 64, 3)\n",
        " \n",
        "model.add(Conv2D(32, kernel_size=(3,3), padding=\"same\", input_shape=inputShape))\n",
        "model.add(Activation(\"relu\"))\n",
        "model.add(MaxPooling2D(pool_size=2))\n",
        "model.add(MaxPooling2D(pool_size=2))\n",
        " \n",
        "model.add(Flatten())\n",
        "model.add(Dense(4000))\n",
        "model.add(Dense(2))\n",
        "model.add(Activation(\"softmax\"))\n",
        "model.summary()"
      ],
      "execution_count": null,
      "outputs": [
        {
          "output_type": "stream",
          "text": [
            "Model: \"sequential_8\"\n",
            "_________________________________________________________________\n",
            "Layer (type)                 Output Shape              Param #   \n",
            "=================================================================\n",
            "conv2d_8 (Conv2D)            (None, 64, 64, 32)        896       \n",
            "_________________________________________________________________\n",
            "activation_16 (Activation)   (None, 64, 64, 32)        0         \n",
            "_________________________________________________________________\n",
            "max_pooling2d_16 (MaxPooling (None, 32, 32, 32)        0         \n",
            "_________________________________________________________________\n",
            "max_pooling2d_17 (MaxPooling (None, 16, 16, 32)        0         \n",
            "_________________________________________________________________\n",
            "flatten_8 (Flatten)          (None, 8192)              0         \n",
            "_________________________________________________________________\n",
            "dense_16 (Dense)             (None, 4000)              32772000  \n",
            "_________________________________________________________________\n",
            "dense_17 (Dense)             (None, 2)                 8002      \n",
            "_________________________________________________________________\n",
            "activation_17 (Activation)   (None, 2)                 0         \n",
            "=================================================================\n",
            "Total params: 32,780,898\n",
            "Trainable params: 32,780,898\n",
            "Non-trainable params: 0\n",
            "_________________________________________________________________\n"
          ],
          "name": "stdout"
        }
      ]
    },
    {
      "cell_type": "code",
      "metadata": {
        "id": "QEjQQPxeULfp"
      },
      "source": [
        "model.compile(loss='categorical_crossentropy', optimizer='adam', metrics=['accuracy'])"
      ],
      "execution_count": null,
      "outputs": []
    },
    {
      "cell_type": "code",
      "metadata": {
        "id": "1dl1O5I_UVft",
        "colab": {
          "base_uri": "https://localhost:8080/",
          "height": 697
        },
        "outputId": "d1aa01c2-89fb-4163-8c1c-43ed39896902"
      },
      "source": [
        "history = model.fit(x = x_train, y = y_train,\n",
        "                    epochs = 20, validation_data = (x_test,y_test),\n",
        "                    verbose = 1)"
      ],
      "execution_count": null,
      "outputs": [
        {
          "output_type": "stream",
          "text": [
            "Epoch 1/20\n",
            "776/776 [==============================] - 5s 7ms/step - loss: 0.6624 - accuracy: 0.7399 - val_loss: 0.4061 - val_accuracy: 0.8682\n",
            "Epoch 2/20\n",
            "776/776 [==============================] - 5s 7ms/step - loss: 0.3698 - accuracy: 0.8637 - val_loss: 0.3923 - val_accuracy: 0.8428\n",
            "Epoch 3/20\n",
            "776/776 [==============================] - 5s 7ms/step - loss: 0.3269 - accuracy: 0.8861 - val_loss: 0.3575 - val_accuracy: 0.8523\n",
            "Epoch 4/20\n",
            "776/776 [==============================] - 5s 7ms/step - loss: 0.3267 - accuracy: 0.8824 - val_loss: 0.3082 - val_accuracy: 0.8889\n",
            "Epoch 5/20\n",
            "776/776 [==============================] - 5s 7ms/step - loss: 0.3142 - accuracy: 0.8928 - val_loss: 0.3809 - val_accuracy: 0.8646\n",
            "Epoch 6/20\n",
            "776/776 [==============================] - 5s 7ms/step - loss: 0.3048 - accuracy: 0.8944 - val_loss: 0.3326 - val_accuracy: 0.8795\n",
            "Epoch 7/20\n",
            "776/776 [==============================] - 5s 7ms/step - loss: 0.2964 - accuracy: 0.9011 - val_loss: 0.3459 - val_accuracy: 0.8697\n",
            "Epoch 8/20\n",
            "776/776 [==============================] - 5s 7ms/step - loss: 0.2835 - accuracy: 0.9020 - val_loss: 0.3213 - val_accuracy: 0.8759\n",
            "Epoch 9/20\n",
            "776/776 [==============================] - 5s 7ms/step - loss: 0.3073 - accuracy: 0.8919 - val_loss: 0.4157 - val_accuracy: 0.8192\n",
            "Epoch 10/20\n",
            "776/776 [==============================] - 5s 7ms/step - loss: 0.2810 - accuracy: 0.9070 - val_loss: 0.4872 - val_accuracy: 0.7691\n",
            "Epoch 11/20\n",
            "776/776 [==============================] - 5s 7ms/step - loss: 0.2887 - accuracy: 0.8955 - val_loss: 0.3279 - val_accuracy: 0.8708\n",
            "Epoch 12/20\n",
            "776/776 [==============================] - 5s 7ms/step - loss: 0.2737 - accuracy: 0.9066 - val_loss: 0.3116 - val_accuracy: 0.8940\n",
            "Epoch 13/20\n",
            "776/776 [==============================] - 5s 7ms/step - loss: 0.2604 - accuracy: 0.9112 - val_loss: 0.3388 - val_accuracy: 0.8650\n",
            "Epoch 14/20\n",
            "776/776 [==============================] - 5s 7ms/step - loss: 0.2541 - accuracy: 0.9100 - val_loss: 0.3738 - val_accuracy: 0.8715\n",
            "Epoch 15/20\n",
            "776/776 [==============================] - 5s 7ms/step - loss: 0.2581 - accuracy: 0.9115 - val_loss: 0.3216 - val_accuracy: 0.8878\n",
            "Epoch 16/20\n",
            "776/776 [==============================] - 5s 7ms/step - loss: 0.2506 - accuracy: 0.9171 - val_loss: 0.3537 - val_accuracy: 0.8715\n",
            "Epoch 17/20\n",
            "776/776 [==============================] - 5s 7ms/step - loss: 0.2405 - accuracy: 0.9166 - val_loss: 0.3753 - val_accuracy: 0.8773\n",
            "Epoch 18/20\n",
            "776/776 [==============================] - 5s 7ms/step - loss: 0.2503 - accuracy: 0.9126 - val_loss: 0.4525 - val_accuracy: 0.9172\n",
            "Epoch 19/20\n",
            "776/776 [==============================] - 5s 7ms/step - loss: 0.2373 - accuracy: 0.9195 - val_loss: 0.3467 - val_accuracy: 0.8955\n",
            "Epoch 20/20\n",
            "776/776 [==============================] - 5s 7ms/step - loss: 0.2238 - accuracy: 0.9264 - val_loss: 0.4062 - val_accuracy: 0.8334\n"
          ],
          "name": "stdout"
        }
      ]
    },
    {
      "cell_type": "code",
      "metadata": {
        "id": "O7y6fbzZUZ0T"
      },
      "source": [
        "model.save(\"/content/drive/My Drive/Colab Notebooks/Shallownet_adam64/ShallowNetAdam64.h5\")"
      ],
      "execution_count": null,
      "outputs": []
    },
    {
      "cell_type": "code",
      "metadata": {
        "id": "j77AXb8LVUjo"
      },
      "source": [
        "from sklearn.metrics import confusion_matrix\n",
        "pred = model.predict(x_test)\n",
        "pred = np.argmax(pred,axis = 1) \n",
        "y_true = np.argmax(y_test,axis = 1)"
      ],
      "execution_count": null,
      "outputs": []
    },
    {
      "cell_type": "code",
      "metadata": {
        "id": "bZzYKW9DVWtA",
        "colab": {
          "base_uri": "https://localhost:8080/",
          "height": 334
        },
        "outputId": "5dbdc3e8-dd09-423e-8892-417ab2679a84"
      },
      "source": [
        "CM = confusion_matrix(y_true, pred)\n",
        "from mlxtend.plotting import plot_confusion_matrix\n",
        "fig, ax = plot_confusion_matrix(conf_mat=CM ,  figsize=(5, 5))\n",
        "plt.show()"
      ],
      "execution_count": null,
      "outputs": [
        {
          "output_type": "display_data",
          "data": {
            "image/png": "[encoded data removed]",
            "text/plain": [
              "<Figure size 360x360 with 1 Axes>"
            ]
          },
          "metadata": {
            "tags": [],
            "needs_background": "light"
          }
        }
      ]
    }
  ]
}