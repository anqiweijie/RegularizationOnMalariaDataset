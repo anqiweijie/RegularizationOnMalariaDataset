{
  "nbformat": 4,
  "nbformat_minor": 0,
  "metadata": {
    "colab": {
      "name": "PKL ShallowNet128.ipynb",
      "provenance": [],
      "collapsed_sections": []
    },
    "kernelspec": {
      "name": "python3",
      "display_name": "Python 3"
    },
    "accelerator": "GPU"
  },
  "cells": [
    {
      "cell_type": "code",
      "metadata": {
        "id": "Mz8mVoXUeUeB"
      },
      "source": [
        "import numpy as np\n",
        "import matplotlib.pyplot as plt\n",
        "from PIL import Image\n",
        "import os\n",
        "import cv2\n",
        "import tensorflow as tf\n",
        "import keras\n",
        "from keras.models import Sequential\n",
        "from keras.layers import Conv2D,Activation,MaxPooling2D,Dense,Flatten"
      ],
      "execution_count": 1,
      "outputs": []
    },
    {
      "cell_type": "code",
      "metadata": {
        "id": "d1KJ_FlX6M1J"
      },
      "source": [
        "data=[]\r\n",
        "labels=[]\r\n",
        "Parasitized=os.listdir(\"/content/drive/My Drive/Colab Notebooks/Dataset/cell_images/Parasitized/\")\r\n",
        "for a in Parasitized:\r\n",
        "    try:\r\n",
        "        image=cv2.imread(\"/content/drive/My Drive/Colab Notebooks/Dataset/cell_images/Parasitized/\"+a)\r\n",
        "        image_from_array = Image.fromarray(image, 'RGB')\r\n",
        "        size_image = image_from_array.resize((128, 128))\r\n",
        "        data.append(np.array(size_image))\r\n",
        "        labels.append(0)\r\n",
        "    except AttributeError:\r\n",
        "        print(\"\")\r\n",
        "\r\n",
        "Uninfected=os.listdir(\"/content/drive/My Drive/Colab Notebooks/Dataset/cell_images/Uninfected/\")\r\n",
        "for b in Uninfected:\r\n",
        "    try:\r\n",
        "        image=cv2.imread(\"/content/drive/My Drive/Colab Notebooks/Dataset/cell_images/Uninfected/\"+b)\r\n",
        "        image_from_array = Image.fromarray(image, 'RGB')\r\n",
        "        size_image = image_from_array.resize((128, 128))\r\n",
        "        data.append(np.array(size_image))\r\n",
        "        labels.append(1)\r\n",
        "    except AttributeError:\r\n",
        "        print(\"\")"
      ],
      "execution_count": null,
      "outputs": []
    },
    {
      "cell_type": "code",
      "metadata": {
        "id": "gIsrtu0vHQzI"
      },
      "source": [
        "Cells=np.array(data)\n",
        "labels=np.array(labels)"
      ],
      "execution_count": null,
      "outputs": []
    },
    {
      "cell_type": "code",
      "metadata": {
        "id": "IAycSC1bHVHd"
      },
      "source": [
        "np.save(\"/content/drive/My Drive/Colab Notebooks/Cells128\",Cells)\n",
        "np.save(\"/content/drive/My Drive/Colab Notebooks/labels128\",labels)"
      ],
      "execution_count": null,
      "outputs": []
    },
    {
      "cell_type": "code",
      "metadata": {
        "id": "t7a2vxtgeYPA"
      },
      "source": [
        "Cells=np.load(\"/content/drive/My Drive/Colab Notebooks/Cells128.npy\")\n",
        "labels=np.load(\"/content/drive/My Drive/Colab Notebooks/labels128.npy\")"
      ],
      "execution_count": 2,
      "outputs": []
    },
    {
      "cell_type": "code",
      "metadata": {
        "id": "w33fqiAneazu"
      },
      "source": [
        "s=np.arange(Cells.shape[0])\n",
        "np.random.shuffle(s)\n",
        "Cells=Cells[s]\n",
        "labels=labels[s]"
      ],
      "execution_count": null,
      "outputs": []
    },
    {
      "cell_type": "code",
      "metadata": {
        "id": "tf3lYjcsecpN"
      },
      "source": [
        "num_classes=len(np.unique(labels))\n",
        "len_data=len(Cells)"
      ],
      "execution_count": null,
      "outputs": []
    },
    {
      "cell_type": "code",
      "metadata": {
        "id": "JTIsT23ZeeC-"
      },
      "source": [
        "(x_train,x_test)=Cells[(int)(0.1*len_data):],Cells[:(int)(0.1*len_data)]\n",
        "x_train = x_train.astype('float32')/255\n",
        "x_test = x_test.astype('float32')/255\n",
        "train_len=len(x_train)\n",
        "test_len=len(x_test)"
      ],
      "execution_count": null,
      "outputs": []
    },
    {
      "cell_type": "code",
      "metadata": {
        "id": "dVHlfL-PefeR"
      },
      "source": [
        "(y_train,y_test)=labels[(int)(0.1*len_data):],labels[:(int)(0.1*len_data)]"
      ],
      "execution_count": null,
      "outputs": []
    },
    {
      "cell_type": "code",
      "metadata": {
        "id": "fc7r6xVHeg8l"
      },
      "source": [
        "y_train=keras.utils.to_categorical(y_train,num_classes)\n",
        "y_test=keras.utils.to_categorical(y_test,num_classes)"
      ],
      "execution_count": null,
      "outputs": []
    },
    {
      "cell_type": "code",
      "metadata": {
        "id": "fASRhK_KelQL",
        "colab": {
          "base_uri": "https://localhost:8080/",
          "height": 459
        },
        "outputId": "ad6aa8ff-3358-4ee8-bdba-17f286a52cf3"
      },
      "source": [
        "model = Sequential()\n",
        "inputShape = (128, 128, 3)\n",
        " \n",
        "model.add(Conv2D(32, kernel_size=(3,3), padding=\"same\", input_shape=inputShape))\n",
        "model.add(Activation(\"relu\"))\n",
        "model.add(MaxPooling2D(pool_size=2))\n",
        "model.add(MaxPooling2D(pool_size=2))\n",
        "model.add(MaxPooling2D(pool_size=2))\n",
        " \n",
        "model.add(Flatten())\n",
        "model.add(Dense(4000))\n",
        "model.add(Dense(2))\n",
        "model.add(Activation(\"softmax\"))\n",
        "model.summary()"
      ],
      "execution_count": null,
      "outputs": [
        {
          "output_type": "stream",
          "text": [
            "Model: \"sequential_2\"\n",
            "_________________________________________________________________\n",
            "Layer (type)                 Output Shape              Param #   \n",
            "=================================================================\n",
            "conv2d_2 (Conv2D)            (None, 128, 128, 32)      896       \n",
            "_________________________________________________________________\n",
            "activation_3 (Activation)    (None, 128, 128, 32)      0         \n",
            "_________________________________________________________________\n",
            "max_pooling2d_4 (MaxPooling2 (None, 64, 64, 32)        0         \n",
            "_________________________________________________________________\n",
            "max_pooling2d_5 (MaxPooling2 (None, 32, 32, 32)        0         \n",
            "_________________________________________________________________\n",
            "max_pooling2d_6 (MaxPooling2 (None, 16, 16, 32)        0         \n",
            "_________________________________________________________________\n",
            "flatten_2 (Flatten)          (None, 8192)              0         \n",
            "_________________________________________________________________\n",
            "dense_3 (Dense)              (None, 4000)              32772000  \n",
            "_________________________________________________________________\n",
            "dense_4 (Dense)              (None, 2)                 8002      \n",
            "_________________________________________________________________\n",
            "activation_4 (Activation)    (None, 2)                 0         \n",
            "=================================================================\n",
            "Total params: 32,780,898\n",
            "Trainable params: 32,780,898\n",
            "Non-trainable params: 0\n",
            "_________________________________________________________________\n"
          ],
          "name": "stdout"
        }
      ]
    },
    {
      "cell_type": "code",
      "metadata": {
        "id": "z0PCtMw6emjU"
      },
      "source": [
        "model.compile(loss='categorical_crossentropy', optimizer=tf.keras.optimizers.RMSprop(), metrics=['accuracy'])"
      ],
      "execution_count": null,
      "outputs": []
    },
    {
      "cell_type": "code",
      "metadata": {
        "id": "mrfvNB_0enwI",
        "colab": {
          "base_uri": "https://localhost:8080/",
          "height": 734
        },
        "outputId": "ab05fd57-ad2e-4696-dcab-b0d0af8298b2"
      },
      "source": [
        "history = model.fit(x = x_train, y = y_train,\n",
        "                    epochs = 20, validation_data = (x_test,y_test),\n",
        "                    verbose = 1)"
      ],
      "execution_count": null,
      "outputs": [
        {
          "output_type": "stream",
          "text": [
            "Train on 24803 samples, validate on 2755 samples\n",
            "Epoch 1/20\n",
            "24803/24803 [==============================] - 20s 816us/step - loss: 0.9360 - accuracy: 0.7941 - val_loss: 0.2665 - val_accuracy: 0.9154\n",
            "Epoch 2/20\n",
            "24803/24803 [==============================] - 20s 807us/step - loss: 0.3194 - accuracy: 0.9052 - val_loss: 0.2519 - val_accuracy: 0.9241\n",
            "Epoch 3/20\n",
            "24803/24803 [==============================] - 20s 809us/step - loss: 0.3130 - accuracy: 0.9093 - val_loss: 0.3322 - val_accuracy: 0.9067\n",
            "Epoch 4/20\n",
            "24803/24803 [==============================] - 20s 811us/step - loss: 0.3069 - accuracy: 0.9092 - val_loss: 0.3042 - val_accuracy: 0.9198\n",
            "Epoch 5/20\n",
            "24803/24803 [==============================] - 20s 808us/step - loss: 0.3091 - accuracy: 0.9095 - val_loss: 0.2845 - val_accuracy: 0.8995\n",
            "Epoch 6/20\n",
            "24803/24803 [==============================] - 20s 804us/step - loss: 0.3062 - accuracy: 0.9126 - val_loss: 0.2883 - val_accuracy: 0.8868\n",
            "Epoch 7/20\n",
            "24803/24803 [==============================] - 20s 809us/step - loss: 0.2999 - accuracy: 0.9098 - val_loss: 0.3521 - val_accuracy: 0.8599\n",
            "Epoch 8/20\n",
            "24803/24803 [==============================] - 20s 819us/step - loss: 0.3010 - accuracy: 0.9126 - val_loss: 0.2995 - val_accuracy: 0.8828\n",
            "Epoch 9/20\n",
            "24803/24803 [==============================] - 20s 813us/step - loss: 0.3019 - accuracy: 0.9155 - val_loss: 0.2712 - val_accuracy: 0.9082\n",
            "Epoch 10/20\n",
            "24803/24803 [==============================] - 20s 808us/step - loss: 0.3043 - accuracy: 0.9131 - val_loss: 0.3016 - val_accuracy: 0.9270\n",
            "Epoch 11/20\n",
            "24803/24803 [==============================] - 20s 806us/step - loss: 0.2994 - accuracy: 0.9141 - val_loss: 0.2611 - val_accuracy: 0.9223\n",
            "Epoch 12/20\n",
            "24803/24803 [==============================] - 20s 807us/step - loss: 0.3031 - accuracy: 0.9128 - val_loss: 0.2572 - val_accuracy: 0.9201\n",
            "Epoch 13/20\n",
            "24803/24803 [==============================] - 20s 808us/step - loss: 0.3037 - accuracy: 0.9144 - val_loss: 0.3893 - val_accuracy: 0.9082\n",
            "Epoch 14/20\n",
            "24803/24803 [==============================] - 20s 807us/step - loss: 0.3030 - accuracy: 0.9141 - val_loss: 0.2742 - val_accuracy: 0.9107\n",
            "Epoch 15/20\n",
            "24803/24803 [==============================] - 20s 807us/step - loss: 0.3008 - accuracy: 0.9145 - val_loss: 0.2977 - val_accuracy: 0.8904\n",
            "Epoch 16/20\n",
            "24803/24803 [==============================] - 20s 805us/step - loss: 0.2994 - accuracy: 0.9168 - val_loss: 0.3622 - val_accuracy: 0.8770\n",
            "Epoch 17/20\n",
            "24803/24803 [==============================] - 20s 800us/step - loss: 0.2895 - accuracy: 0.9153 - val_loss: 0.2654 - val_accuracy: 0.9205\n",
            "Epoch 18/20\n",
            "24803/24803 [==============================] - 20s 797us/step - loss: 0.3000 - accuracy: 0.9125 - val_loss: 0.4021 - val_accuracy: 0.9143\n",
            "Epoch 19/20\n",
            "24803/24803 [==============================] - 20s 796us/step - loss: 0.2980 - accuracy: 0.9127 - val_loss: 0.2755 - val_accuracy: 0.9299\n",
            "Epoch 20/20\n",
            "24803/24803 [==============================] - 20s 796us/step - loss: 0.2920 - accuracy: 0.9157 - val_loss: 0.3225 - val_accuracy: 0.9031\n"
          ],
          "name": "stdout"
        }
      ]
    },
    {
      "cell_type": "code",
      "metadata": {
        "id": "SN9yQhMReoyz"
      },
      "source": [
        "model.save(\"/content/drive/My Drive/Colab Notebooks/Shallownet128/ShallowNet128.h5\")"
      ],
      "execution_count": null,
      "outputs": []
    },
    {
      "cell_type": "code",
      "metadata": {
        "id": "_F3V1Slmerme"
      },
      "source": [
        "from sklearn.metrics import confusion_matrix\n",
        "pred = model.predict(x_test)\n",
        "pred = np.argmax(pred,axis = 1) \n",
        "y_true = np.argmax(y_test,axis = 1)"
      ],
      "execution_count": null,
      "outputs": []
    },
    {
      "cell_type": "code",
      "metadata": {
        "id": "ZfzxNJbHes5j",
        "colab": {
          "base_uri": "https://localhost:8080/",
          "height": 334
        },
        "outputId": "bc1fb898-2d09-4c1c-e38c-cb197d596c04"
      },
      "source": [
        "CM = confusion_matrix(y_true, pred)\n",
        "from mlxtend.plotting import plot_confusion_matrix\n",
        "fig, ax = plot_confusion_matrix(conf_mat=CM ,  figsize=(5, 5))\n",
        "plt.show()"
      ],
      "execution_count": null,
      "outputs": [
        {
          "output_type": "display_data",
          "data": {
            "image/png": "[encoded data removed]",
            "text/plain": [
              "<Figure size 360x360 with 1 Axes>"
            ]
          },
          "metadata": {
            "tags": [],
            "needs_background": "light"
          }
        }
      ]
    }
  ]
}