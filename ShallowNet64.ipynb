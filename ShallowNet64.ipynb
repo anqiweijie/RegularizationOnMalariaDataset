{
  "nbformat": 4,
  "nbformat_minor": 0,
  "metadata": {
    "colab": {
      "name": "PKL ShallowNet64.ipynb",
      "provenance": [],
      "collapsed_sections": []
    },
    "kernelspec": {
      "name": "python3",
      "display_name": "Python 3"
    },
    "accelerator": "GPU"
  },
  "cells": [
    {
      "cell_type": "code",
      "metadata": {
        "id": "Es_BqE0plezm"
      },
      "source": [
        "#data preprocessing\n",
        "import pandas as pd\n",
        "#math operations\n",
        "import numpy as np\n",
        "#machine learning\n",
        " \n",
        "from sklearn.preprocessing import StandardScaler\n",
        "#hyperparameter optimization\n",
        "from sklearn.model_selection import GridSearchCV\n",
        "#support vector machine model\n",
        "from keras import regularizers\n",
        "import matplotlib.pyplot as plt\n",
        "from PIL import Image\n",
        "import numpy as np\n",
        "import os\n",
        "import cv2\n",
        "import keras\n",
        "from keras.utils import np_utils\n",
        "from keras.models import Sequential\n",
        "from keras.layers import Conv2D,MaxPooling2D,Dense,Flatten,Dropout,Activation\n",
        "            \n",
        "from random import shuffle\n",
        "from tqdm import tqdm  \n",
        "import scipy\n",
        "import skimage\n",
        "from skimage.transform import resize\n",
        "import random\n",
        "import tensorflow as tf"
      ],
      "execution_count": 1,
      "outputs": []
    },
    {
      "cell_type": "code",
      "metadata": {
        "id": "UeeHbLwU9v11"
      },
      "source": [
        "data=[]\n",
        "labels=[]\n",
        "Parasitized=os.listdir(\"/content/drive/My Drive/Colab Notebooks/Dataset/cell_images/Parasitized/\")\n",
        "for a in Parasitized:\n",
        "    try:\n",
        "        image=cv2.imread(\"/content/drive/My Drive/Colab Notebooks/Dataset/cell_images/Parasitized/\"+a)\n",
        "        image_from_array = Image.fromarray(image, 'RGB')\n",
        "        size_image = image_from_array.resize((50, 50))\n",
        "        data.append(np.array(size_image))\n",
        "        labels.append(0)\n",
        "    except AttributeError:\n",
        "        print(\"\")\n",
        "\n",
        "Uninfected=os.listdir(\"/content/drive/My Drive/Colab Notebooks/Dataset/cell_images/Uninfected/\")\n",
        "for b in Uninfected:\n",
        "    try:\n",
        "        image=cv2.imread(\"/content/drive/My Drive/Colab Notebooks/Dataset/cell_images/Uninfected/\"+b)\n",
        "        image_from_array = Image.fromarray(image, 'RGB')\n",
        "        size_image = image_from_array.resize((50, 50))\n",
        "        data.append(np.array(size_image))\n",
        "        labels.append(1)\n",
        "    except AttributeError:\n",
        "        print(\"\")"
      ],
      "execution_count": null,
      "outputs": []
    },
    {
      "cell_type": "code",
      "metadata": {
        "id": "gIsrtu0vHQzI"
      },
      "source": [
        "Cells=np.array(data)\n",
        "labels=np.array(labels)"
      ],
      "execution_count": null,
      "outputs": []
    },
    {
      "cell_type": "code",
      "metadata": {
        "id": "IAycSC1bHVHd"
      },
      "source": [
        "np.save(\"/content/drive/My Drive/Colab Notebooks/Cells1\",Cells)\n",
        "np.save(\"/content/drive/My Drive/Colab Notebooks/labels1\",labels)"
      ],
      "execution_count": null,
      "outputs": []
    },
    {
      "cell_type": "code",
      "metadata": {
        "id": "NHkK0qDXkPvo"
      },
      "source": [
        "Cells=np.load(\"/content/drive/My Drive/Colab Notebooks/Cells64.npy\")\n",
        "labels=np.load(\"/content/drive/My Drive/Colab Notebooks/labels64.npy\")"
      ],
      "execution_count": 2,
      "outputs": []
    },
    {
      "cell_type": "code",
      "metadata": {
        "id": "BtqZ6GGGk0i-"
      },
      "source": [
        "s=np.arange(Cells.shape[0])\n",
        "np.random.shuffle(s)\n",
        "Cells=Cells[s]\n",
        "labels=labels[s]"
      ],
      "execution_count": 3,
      "outputs": []
    },
    {
      "cell_type": "code",
      "metadata": {
        "id": "B-Ys-1Kpk6gH"
      },
      "source": [
        "num_classes=len(np.unique(labels))\n",
        "len_data=len(Cells)"
      ],
      "execution_count": 4,
      "outputs": []
    },
    {
      "cell_type": "code",
      "metadata": {
        "id": "iQoWIs5vk6t0"
      },
      "source": [
        "(x_train,x_test)=Cells[(int)(0.1*len_data):],Cells[:(int)(0.1*len_data)]\n",
        "x_train = x_train.astype('float32')/255 # As we are working on image data we are normalizing data by divinding 255.\n",
        "x_test = x_test.astype('float32')/255\n",
        "train_len=len(x_train)\n",
        "test_len=len(x_test)"
      ],
      "execution_count": 5,
      "outputs": []
    },
    {
      "cell_type": "code",
      "metadata": {
        "id": "y6x0UigTk85r"
      },
      "source": [
        "(y_train,y_test)=labels[(int)(0.1*len_data):],labels[:(int)(0.1*len_data)]"
      ],
      "execution_count": 6,
      "outputs": []
    },
    {
      "cell_type": "code",
      "metadata": {
        "id": "qegZSk9jk-vj"
      },
      "source": [
        "#Doing One hot encoding as classifier has multiple classes\n",
        "y_train=keras.utils.to_categorical(y_train,num_classes)\n",
        "y_test=keras.utils.to_categorical(y_test,num_classes)"
      ],
      "execution_count": 7,
      "outputs": []
    },
    {
      "cell_type": "code",
      "metadata": {
        "id": "70M06skhsSlA",
        "colab": {
          "base_uri": "https://localhost:8080/"
        },
        "outputId": "13efbf70-3412-4811-dcfe-be064420683b"
      },
      "source": [
        "# initialzie the model\n",
        "model = Sequential()\n",
        "inputShape = (64, 64, 3)\n",
        " \n",
        "model.add(Conv2D(32, kernel_size=(3,3), padding=\"same\", input_shape=inputShape))\n",
        "model.add(Activation(\"relu\"))\n",
        "model.add(MaxPooling2D(pool_size=2))\n",
        "model.add(MaxPooling2D(pool_size=2))\n",
        " \n",
        "model.add(Flatten())\n",
        "model.add(Dense(4000))\n",
        "model.add(Dense(2))\n",
        "model.add(Activation(\"softmax\"))\n",
        "model.summary()"
      ],
      "execution_count": 8,
      "outputs": [
        {
          "output_type": "stream",
          "text": [
            "Model: \"sequential\"\n",
            "_________________________________________________________________\n",
            "Layer (type)                 Output Shape              Param #   \n",
            "=================================================================\n",
            "conv2d (Conv2D)              (None, 64, 64, 32)        896       \n",
            "_________________________________________________________________\n",
            "activation (Activation)      (None, 64, 64, 32)        0         \n",
            "_________________________________________________________________\n",
            "max_pooling2d (MaxPooling2D) (None, 32, 32, 32)        0         \n",
            "_________________________________________________________________\n",
            "max_pooling2d_1 (MaxPooling2 (None, 16, 16, 32)        0         \n",
            "_________________________________________________________________\n",
            "flatten (Flatten)            (None, 8192)              0         \n",
            "_________________________________________________________________\n",
            "dense (Dense)                (None, 4000)              32772000  \n",
            "_________________________________________________________________\n",
            "dense_1 (Dense)              (None, 2)                 8002      \n",
            "_________________________________________________________________\n",
            "activation_1 (Activation)    (None, 2)                 0         \n",
            "=================================================================\n",
            "Total params: 32,780,898\n",
            "Trainable params: 32,780,898\n",
            "Non-trainable params: 0\n",
            "_________________________________________________________________\n"
          ],
          "name": "stdout"
        }
      ]
    },
    {
      "cell_type": "code",
      "metadata": {
        "id": "JPFmhQztlFq4"
      },
      "source": [
        "# Compiling model\n",
        "# compile the model with loss as categorical_crossentropy and using adam optimizer you can test result by trying RMSProp as well as Momentum\n",
        "model.compile(loss='categorical_crossentropy', optimizer=tf.keras.optimizers.RMSprop(), metrics=['accuracy'])"
      ],
      "execution_count": 9,
      "outputs": []
    },
    {
      "cell_type": "code",
      "metadata": {
        "id": "taL7ljMblRQw",
        "colab": {
          "base_uri": "https://localhost:8080/"
        },
        "outputId": "f369f6e9-8da8-4a59-9ae2-7691f6dc6f7a"
      },
      "source": [
        "# Fit the model\n",
        "history = model.fit(x = x_train, y = y_train,\n",
        "                    epochs = 20, validation_data = (x_test,y_test),\n",
        "                    verbose = 1)"
      ],
      "execution_count": 10,
      "outputs": [
        {
          "output_type": "stream",
          "text": [
            "Epoch 1/20\n",
            "776/776 [==============================] - 14s 10ms/step - loss: 1.5555 - accuracy: 0.6656 - val_loss: 0.3389 - val_accuracy: 0.8715\n",
            "Epoch 2/20\n",
            "776/776 [==============================] - 8s 10ms/step - loss: 0.3674 - accuracy: 0.8780 - val_loss: 0.3196 - val_accuracy: 0.8936\n",
            "Epoch 3/20\n",
            "776/776 [==============================] - 8s 10ms/step - loss: 0.3328 - accuracy: 0.8968 - val_loss: 0.4612 - val_accuracy: 0.9201\n",
            "Epoch 4/20\n",
            "776/776 [==============================] - 8s 10ms/step - loss: 0.3264 - accuracy: 0.9042 - val_loss: 0.3374 - val_accuracy: 0.8726\n",
            "Epoch 5/20\n",
            "776/776 [==============================] - 8s 10ms/step - loss: 0.3207 - accuracy: 0.9040 - val_loss: 0.3074 - val_accuracy: 0.8951\n",
            "Epoch 6/20\n",
            "776/776 [==============================] - 8s 10ms/step - loss: 0.3255 - accuracy: 0.9021 - val_loss: 0.2982 - val_accuracy: 0.9114\n",
            "Epoch 7/20\n",
            "776/776 [==============================] - 8s 10ms/step - loss: 0.3069 - accuracy: 0.9062 - val_loss: 0.3289 - val_accuracy: 0.8947\n",
            "Epoch 8/20\n",
            "776/776 [==============================] - 8s 10ms/step - loss: 0.3106 - accuracy: 0.9049 - val_loss: 0.3371 - val_accuracy: 0.9107\n",
            "Epoch 9/20\n",
            "776/776 [==============================] - 8s 10ms/step - loss: 0.2859 - accuracy: 0.9166 - val_loss: 0.3344 - val_accuracy: 0.8962\n",
            "Epoch 10/20\n",
            "776/776 [==============================] - 8s 10ms/step - loss: 0.3056 - accuracy: 0.9079 - val_loss: 0.3556 - val_accuracy: 0.8806\n",
            "Epoch 11/20\n",
            "776/776 [==============================] - 8s 10ms/step - loss: 0.3124 - accuracy: 0.9103 - val_loss: 0.3340 - val_accuracy: 0.9143\n",
            "Epoch 12/20\n",
            "776/776 [==============================] - 8s 10ms/step - loss: 0.2981 - accuracy: 0.9136 - val_loss: 0.2967 - val_accuracy: 0.8955\n",
            "Epoch 13/20\n",
            "776/776 [==============================] - 8s 10ms/step - loss: 0.2980 - accuracy: 0.9139 - val_loss: 0.3172 - val_accuracy: 0.9031\n",
            "Epoch 14/20\n",
            "776/776 [==============================] - 8s 10ms/step - loss: 0.2834 - accuracy: 0.9177 - val_loss: 0.3239 - val_accuracy: 0.8936\n",
            "Epoch 15/20\n",
            "776/776 [==============================] - 8s 10ms/step - loss: 0.2950 - accuracy: 0.9165 - val_loss: 0.3180 - val_accuracy: 0.9125\n",
            "Epoch 16/20\n",
            "776/776 [==============================] - 8s 10ms/step - loss: 0.2895 - accuracy: 0.9158 - val_loss: 0.3914 - val_accuracy: 0.8813\n",
            "Epoch 17/20\n",
            "776/776 [==============================] - 8s 10ms/step - loss: 0.3060 - accuracy: 0.9132 - val_loss: 0.3371 - val_accuracy: 0.9136\n",
            "Epoch 18/20\n",
            "776/776 [==============================] - 8s 10ms/step - loss: 0.2807 - accuracy: 0.9166 - val_loss: 0.3045 - val_accuracy: 0.9118\n",
            "Epoch 19/20\n",
            "776/776 [==============================] - 8s 10ms/step - loss: 0.2683 - accuracy: 0.9183 - val_loss: 0.2856 - val_accuracy: 0.9038\n",
            "Epoch 20/20\n",
            "776/776 [==============================] - 8s 10ms/step - loss: 0.2631 - accuracy: 0.9197 - val_loss: 0.3509 - val_accuracy: 0.8606\n"
          ],
          "name": "stdout"
        }
      ]
    },
    {
      "cell_type": "code",
      "metadata": {
        "id": "Pm9dnMy3tIY-",
        "colab": {
          "base_uri": "https://localhost:8080/",
          "height": 71
        },
        "outputId": "6f81e6e9-5046-41ca-8d34-c2bfd306aa30"
      },
      "source": [
        "model.save(\"/content/drive/My Drive/Colab Notebooks/Shallownet64/PKLShallowNet64.h5\")"
      ],
      "execution_count": null,
      "outputs": [
        {
          "output_type": "stream",
          "text": [
            "/usr/local/lib/python3.6/dist-packages/keras/engine/saving.py:165: UserWarning: TensorFlow optimizers do not make it possible to access optimizer attributes or optimizer state after instantiation. As a result, we cannot save the optimizer as part of the model save file.You will have to compile your model again after loading it. Prefer using a Keras optimizer instead (see keras.io/optimizers).\n",
            "  'TensorFlow optimizers do not '\n"
          ],
          "name": "stderr"
        }
      ]
    },
    {
      "cell_type": "code",
      "metadata": {
        "id": "DeUq_v5jtRya"
      },
      "source": [
        "from sklearn.metrics import confusion_matrix\n",
        "pred = model.predict(x_test)\n",
        "pred = np.argmax(pred,axis = 1) \n",
        "y_true = np.argmax(y_test,axis = 1)"
      ],
      "execution_count": 11,
      "outputs": []
    },
    {
      "cell_type": "code",
      "metadata": {
        "id": "krrnTsaZtXVH",
        "colab": {
          "base_uri": "https://localhost:8080/",
          "height": 334
        },
        "outputId": "1205876b-c410-4e81-ef25-2248d376a221"
      },
      "source": [
        "CM = confusion_matrix(y_true, pred)\n",
        "from mlxtend.plotting import plot_confusion_matrix\n",
        "fig, ax = plot_confusion_matrix(conf_mat=CM ,  figsize=(5, 5))\n",
        "plt.show()"
      ],
      "execution_count": 12,
      "outputs": [
        {
          "output_type": "display_data",
          "data": {
            "image/png": "[encoded data removed]",
            "text/plain": [
              "<Figure size 360x360 with 1 Axes>"
            ]
          },
          "metadata": {
            "tags": [],
            "needs_background": "light"
          }
        }
      ]
    }
  ]
}