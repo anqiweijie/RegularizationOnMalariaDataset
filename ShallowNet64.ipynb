{
  "nbformat": 4,
  "nbformat_minor": 0,
  "metadata": {
    "colab": {
      "name": "PKL ShallowNet64.ipynb",
      "provenance": [],
      "collapsed_sections": []
    },
    "kernelspec": {
      "name": "python3",
      "display_name": "Python 3"
    },
    "accelerator": "GPU"
  },
  "cells": [
    {
      "cell_type": "code",
      "metadata": {
        "id": "Es_BqE0plezm"
      },
      "source": [
        "import numpy as np\n",
        "import matplotlib.pyplot as plt\n",
        "from PIL import Image\n",
        "import os\n",
        "import cv2\n",
        "import tensorflow as tf\n",
        "import keras\n",
        "from keras.models import Sequential\n",
        "from keras.layers import Conv2D,Activation,MaxPooling2D,Dense,Flatten"
      ],
      "execution_count": 9,
      "outputs": []
    },
    {
      "cell_type": "code",
      "metadata": {
        "id": "UeeHbLwU9v11"
      },
      "source": [
        "data=[]\n",
        "labels=[]\n",
        "Parasitized=os.listdir(\"/content/drive/My Drive/Colab Notebooks/Dataset/cell_images/Parasitized/\")\n",
        "for a in Parasitized:\n",
        "    try:\n",
        "        image=cv2.imread(\"/content/drive/My Drive/Colab Notebooks/Dataset/cell_images/Parasitized/\"+a)\n",
        "        image_from_array = Image.fromarray(image, 'RGB')\n",
        "        size_image = image_from_array.resize((50, 50))\n",
        "        data.append(np.array(size_image))\n",
        "        labels.append(0)\n",
        "    except AttributeError:\n",
        "        print(\"\")\n",
        "\n",
        "Uninfected=os.listdir(\"/content/drive/My Drive/Colab Notebooks/Dataset/cell_images/Uninfected/\")\n",
        "for b in Uninfected:\n",
        "    try:\n",
        "        image=cv2.imread(\"/content/drive/My Drive/Colab Notebooks/Dataset/cell_images/Uninfected/\"+b)\n",
        "        image_from_array = Image.fromarray(image, 'RGB')\n",
        "        size_image = image_from_array.resize((50, 50))\n",
        "        data.append(np.array(size_image))\n",
        "        labels.append(1)\n",
        "    except AttributeError:\n",
        "        print(\"\")"
      ],
      "execution_count": null,
      "outputs": []
    },
    {
      "cell_type": "code",
      "metadata": {
        "id": "gIsrtu0vHQzI"
      },
      "source": [
        "Cells=np.array(data)\n",
        "labels=np.array(labels)"
      ],
      "execution_count": null,
      "outputs": []
    },
    {
      "cell_type": "code",
      "metadata": {
        "id": "IAycSC1bHVHd"
      },
      "source": [
        "np.save(\"/content/drive/My Drive/Colab Notebooks/Cells64\",Cells)\n",
        "np.save(\"/content/drive/My Drive/Colab Notebooks/labels64\",labels)"
      ],
      "execution_count": null,
      "outputs": []
    },
    {
      "cell_type": "code",
      "metadata": {
        "id": "NHkK0qDXkPvo"
      },
      "source": [
        "Cells=np.load(\"/content/drive/My Drive/Colab Notebooks/Cells64.npy\")\n",
        "labels=np.load(\"/content/drive/My Drive/Colab Notebooks/labels64.npy\")"
      ],
      "execution_count": 2,
      "outputs": []
    },
    {
      "cell_type": "code",
      "metadata": {
        "id": "BtqZ6GGGk0i-"
      },
      "source": [
        "s=np.arange(Cells.shape[0])\n",
        "np.random.shuffle(s)\n",
        "Cells=Cells[s]\n",
        "labels=labels[s]"
      ],
      "execution_count": 3,
      "outputs": []
    },
    {
      "cell_type": "code",
      "metadata": {
        "id": "B-Ys-1Kpk6gH"
      },
      "source": [
        "num_classes=len(np.unique(labels))\n",
        "len_data=len(Cells)"
      ],
      "execution_count": 4,
      "outputs": []
    },
    {
      "cell_type": "code",
      "metadata": {
        "id": "iQoWIs5vk6t0"
      },
      "source": [
        "(x_train,x_test)=Cells[(int)(0.1*len_data):],Cells[:(int)(0.1*len_data)]\n",
        "x_train = x_train.astype('float32')/255 \n",
        "x_test = x_test.astype('float32')/255\n",
        "train_len=len(x_train)\n",
        "test_len=len(x_test)"
      ],
      "execution_count": 5,
      "outputs": []
    },
    {
      "cell_type": "code",
      "metadata": {
        "id": "y6x0UigTk85r"
      },
      "source": [
        "(y_train,y_test)=labels[(int)(0.1*len_data):],labels[:(int)(0.1*len_data)]"
      ],
      "execution_count": 6,
      "outputs": []
    },
    {
      "cell_type": "code",
      "metadata": {
        "id": "qegZSk9jk-vj"
      },
      "source": [
        "y_train=keras.utils.to_categorical(y_train,num_classes)\n",
        "y_test=keras.utils.to_categorical(y_test,num_classes)"
      ],
      "execution_count": 7,
      "outputs": []
    },
    {
      "cell_type": "code",
      "metadata": {
        "id": "70M06skhsSlA",
        "colab": {
          "base_uri": "https://localhost:8080/"
        },
        "outputId": "6650172a-b2e0-4ad9-b594-ed5ce632abe1"
      },
      "source": [
        "model = Sequential()\n",
        "inputShape = (64, 64, 3)\n",
        " \n",
        "model.add(Conv2D(32, kernel_size=(3,3), padding=\"same\", input_shape=inputShape))\n",
        "model.add(Activation(\"relu\"))\n",
        "model.add(MaxPooling2D(pool_size=2))\n",
        "model.add(MaxPooling2D(pool_size=2))\n",
        " \n",
        "model.add(Flatten())\n",
        "model.add(Dense(4000))\n",
        "model.add(Dense(2))\n",
        "model.add(Activation(\"softmax\"))\n",
        "model.summary()"
      ],
      "execution_count": 10,
      "outputs": [
        {
          "output_type": "stream",
          "text": [
            "Model: \"sequential_1\"\n",
            "_________________________________________________________________\n",
            "Layer (type)                 Output Shape              Param #   \n",
            "=================================================================\n",
            "conv2d_1 (Conv2D)            (None, 64, 64, 32)        896       \n",
            "_________________________________________________________________\n",
            "activation (Activation)      (None, 64, 64, 32)        0         \n",
            "_________________________________________________________________\n",
            "max_pooling2d (MaxPooling2D) (None, 32, 32, 32)        0         \n",
            "_________________________________________________________________\n",
            "max_pooling2d_1 (MaxPooling2 (None, 16, 16, 32)        0         \n",
            "_________________________________________________________________\n",
            "flatten (Flatten)            (None, 8192)              0         \n",
            "_________________________________________________________________\n",
            "dense (Dense)                (None, 4000)              32772000  \n",
            "_________________________________________________________________\n",
            "dense_1 (Dense)              (None, 2)                 8002      \n",
            "_________________________________________________________________\n",
            "activation_1 (Activation)    (None, 2)                 0         \n",
            "=================================================================\n",
            "Total params: 32,780,898\n",
            "Trainable params: 32,780,898\n",
            "Non-trainable params: 0\n",
            "_________________________________________________________________\n"
          ],
          "name": "stdout"
        }
      ]
    },
    {
      "cell_type": "code",
      "metadata": {
        "id": "JPFmhQztlFq4"
      },
      "source": [
        "model.compile(loss='categorical_crossentropy', optimizer=tf.keras.optimizers.RMSprop(), metrics=['accuracy'])"
      ],
      "execution_count": 11,
      "outputs": []
    },
    {
      "cell_type": "code",
      "metadata": {
        "id": "taL7ljMblRQw",
        "colab": {
          "base_uri": "https://localhost:8080/"
        },
        "outputId": "e81d97ea-97fe-4c09-f621-99910731aebd"
      },
      "source": [
        "history = model.fit(x = x_train, y = y_train,\n",
        "                    epochs = 20, validation_data = (x_test,y_test),\n",
        "                    verbose = 1)"
      ],
      "execution_count": 12,
      "outputs": [
        {
          "output_type": "stream",
          "text": [
            "Epoch 1/20\n",
            "776/776 [==============================] - 21s 18ms/step - loss: 1.9937 - accuracy: 0.6574 - val_loss: 0.4084 - val_accuracy: 0.9024\n",
            "Epoch 2/20\n",
            "776/776 [==============================] - 14s 18ms/step - loss: 0.3729 - accuracy: 0.8896 - val_loss: 0.3441 - val_accuracy: 0.8799\n",
            "Epoch 3/20\n",
            "776/776 [==============================] - 14s 18ms/step - loss: 0.3366 - accuracy: 0.8965 - val_loss: 0.3876 - val_accuracy: 0.8853\n",
            "Epoch 4/20\n",
            "776/776 [==============================] - 14s 18ms/step - loss: 0.3322 - accuracy: 0.9017 - val_loss: 0.3511 - val_accuracy: 0.8566\n",
            "Epoch 5/20\n",
            "776/776 [==============================] - 14s 18ms/step - loss: 0.3210 - accuracy: 0.8990 - val_loss: 0.3528 - val_accuracy: 0.8857\n",
            "Epoch 6/20\n",
            "776/776 [==============================] - 14s 18ms/step - loss: 0.3204 - accuracy: 0.9075 - val_loss: 0.3346 - val_accuracy: 0.9049\n",
            "Epoch 7/20\n",
            "776/776 [==============================] - 14s 18ms/step - loss: 0.3180 - accuracy: 0.9079 - val_loss: 0.3158 - val_accuracy: 0.8838\n",
            "Epoch 8/20\n",
            "776/776 [==============================] - 14s 18ms/step - loss: 0.3168 - accuracy: 0.9086 - val_loss: 0.3245 - val_accuracy: 0.8951\n",
            "Epoch 9/20\n",
            "776/776 [==============================] - 14s 18ms/step - loss: 0.3015 - accuracy: 0.9090 - val_loss: 0.3649 - val_accuracy: 0.8486\n",
            "Epoch 10/20\n",
            "776/776 [==============================] - 14s 18ms/step - loss: 0.2957 - accuracy: 0.9140 - val_loss: 0.3362 - val_accuracy: 0.8940\n",
            "Epoch 11/20\n",
            "776/776 [==============================] - 14s 18ms/step - loss: 0.2933 - accuracy: 0.9115 - val_loss: 0.3657 - val_accuracy: 0.8646\n",
            "Epoch 12/20\n",
            "776/776 [==============================] - 14s 18ms/step - loss: 0.3010 - accuracy: 0.9137 - val_loss: 0.3558 - val_accuracy: 0.9085\n",
            "Epoch 13/20\n",
            "776/776 [==============================] - 14s 18ms/step - loss: 0.2826 - accuracy: 0.9169 - val_loss: 0.2953 - val_accuracy: 0.9034\n",
            "Epoch 14/20\n",
            "776/776 [==============================] - 14s 18ms/step - loss: 0.2774 - accuracy: 0.9152 - val_loss: 0.2905 - val_accuracy: 0.9020\n",
            "Epoch 15/20\n",
            "776/776 [==============================] - 14s 18ms/step - loss: 0.2766 - accuracy: 0.9183 - val_loss: 0.3144 - val_accuracy: 0.8987\n",
            "Epoch 16/20\n",
            "776/776 [==============================] - 14s 18ms/step - loss: 0.2735 - accuracy: 0.9206 - val_loss: 0.2940 - val_accuracy: 0.9114\n",
            "Epoch 17/20\n",
            "776/776 [==============================] - 14s 18ms/step - loss: 0.2741 - accuracy: 0.9228 - val_loss: 0.3071 - val_accuracy: 0.9122\n",
            "Epoch 18/20\n",
            "776/776 [==============================] - 14s 18ms/step - loss: 0.2698 - accuracy: 0.9217 - val_loss: 0.2926 - val_accuracy: 0.8933\n",
            "Epoch 19/20\n",
            "776/776 [==============================] - 14s 18ms/step - loss: 0.2751 - accuracy: 0.9195 - val_loss: 0.2980 - val_accuracy: 0.9205\n",
            "Epoch 20/20\n",
            "776/776 [==============================] - 14s 18ms/step - loss: 0.2475 - accuracy: 0.9259 - val_loss: 0.2988 - val_accuracy: 0.9162\n"
          ],
          "name": "stdout"
        }
      ]
    },
    {
      "cell_type": "code",
      "metadata": {
        "id": "Pm9dnMy3tIY-"
      },
      "source": [
        "model.save(\"/content/drive/My Drive/Colab Notebooks/Shallownet64/PKLShallowNet64.h5\")"
      ],
      "execution_count": 13,
      "outputs": []
    },
    {
      "cell_type": "code",
      "metadata": {
        "id": "DeUq_v5jtRya"
      },
      "source": [
        "from sklearn.metrics import confusion_matrix\n",
        "pred = model.predict(x_test)\n",
        "pred = np.argmax(pred,axis = 1) \n",
        "y_true = np.argmax(y_test,axis = 1)"
      ],
      "execution_count": 14,
      "outputs": []
    },
    {
      "cell_type": "code",
      "metadata": {
        "id": "krrnTsaZtXVH",
        "colab": {
          "base_uri": "https://localhost:8080/",
          "height": 334
        },
        "outputId": "71201068-2704-404e-a339-ec7ac6da44b4"
      },
      "source": [
        "CM = confusion_matrix(y_true, pred)\n",
        "from mlxtend.plotting import plot_confusion_matrix\n",
        "fig, ax = plot_confusion_matrix(conf_mat=CM ,  figsize=(5, 5))\n",
        "plt.show()"
      ],
      "execution_count": 15,
      "outputs": [
        {
          "output_type": "display_data",
          "data": {
            "image/png": "[encoded data removed]",
            "text/plain": [
              "<Figure size 360x360 with 1 Axes>"
            ]
          },
          "metadata": {
            "tags": [],
            "needs_background": "light"
          }
        }
      ]
    }
  ]
}