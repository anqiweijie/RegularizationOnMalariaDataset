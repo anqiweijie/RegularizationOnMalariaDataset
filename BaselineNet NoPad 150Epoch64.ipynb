{
  "nbformat": 4,
  "nbformat_minor": 0,
  "metadata": {
    "colab": {
      "name": "PKL BaselineNet NoPad 150Epoch64.ipynb",
      "provenance": [],
      "collapsed_sections": []
    },
    "kernelspec": {
      "name": "python3",
      "display_name": "Python 3"
    },
    "accelerator": "GPU"
  },
  "cells": [
    {
      "cell_type": "code",
      "metadata": {
        "id": "dhASYws3YSLE"
      },
      "source": [
        "import numpy as np\n",
        "import matplotlib.pyplot as plt\n",
        "from PIL import Image\n",
        "import os\n",
        "import cv2\n",
        "import tensorflow as tf\n",
        "import keras\n",
        "from keras.models import Sequential\n",
        "from keras.layers import Conv2D,MaxPooling2D,Dense,Flatten,Dropout"
      ],
      "execution_count": null,
      "outputs": []
    },
    {
      "cell_type": "code",
      "metadata": {
        "id": "UeeHbLwU9v11"
      },
      "source": [
        "data=[]\n",
        "labels=[]\n",
        "Parasitized=os.listdir(\"/content/drive/My Drive/Colab Notebooks/Dataset/cell_images/Parasitized/\")\n",
        "for a in Parasitized:\n",
        "    try:\n",
        "        image=cv2.imread(\"/content/drive/My Drive/Colab Notebooks/Dataset/cell_images/Parasitized/\"+a)\n",
        "        image_from_array = Image.fromarray(image, 'RGB')\n",
        "        size_image = image_from_array.resize((64, 64))\n",
        "        data.append(np.array(size_image))\n",
        "        labels.append(0)\n",
        "    except AttributeError:\n",
        "        print(\"\")\n",
        "\n",
        "Uninfected=os.listdir(\"/content/drive/My Drive/Colab Notebooks/Dataset/cell_images/Uninfected/\")\n",
        "for b in Uninfected:\n",
        "    try:\n",
        "        image=cv2.imread(\"/content/drive/My Drive/Colab Notebooks/Dataset/cell_images/Uninfected/\"+b)\n",
        "        image_from_array = Image.fromarray(image, 'RGB')\n",
        "        size_image = image_from_array.resize((64, 64))\n",
        "        data.append(np.array(size_image))\n",
        "        labels.append(1)\n",
        "    except AttributeError:\n",
        "        print(\"\")"
      ],
      "execution_count": null,
      "outputs": []
    },
    {
      "cell_type": "code",
      "metadata": {
        "id": "gIsrtu0vHQzI"
      },
      "source": [
        "Cells=np.array(data)\n",
        "labels=np.array(labels)"
      ],
      "execution_count": null,
      "outputs": []
    },
    {
      "cell_type": "code",
      "metadata": {
        "id": "IAycSC1bHVHd"
      },
      "source": [
        "np.save(\"/content/drive/My Drive/Colab Notebooks/Cells64\",Cells)\n",
        "np.save(\"/content/drive/My Drive/Colab Notebooks/labels64\",labels)"
      ],
      "execution_count": null,
      "outputs": []
    },
    {
      "cell_type": "code",
      "metadata": {
        "id": "IaM6cU1dYYzO"
      },
      "source": [
        "Cells=np.load(\"/content/drive/My Drive/Colab Notebooks/Cells64.npy\")\n",
        "labels=np.load(\"/content/drive/My Drive/Colab Notebooks/labels64.npy\")"
      ],
      "execution_count": null,
      "outputs": []
    },
    {
      "cell_type": "code",
      "metadata": {
        "id": "O9V_zVC0YaCA"
      },
      "source": [
        "s=np.arange(Cells.shape[0])\n",
        "np.random.shuffle(s)\n",
        "Cells=Cells[s]\n",
        "labels=labels[s]"
      ],
      "execution_count": null,
      "outputs": []
    },
    {
      "cell_type": "code",
      "metadata": {
        "id": "3b5rRJNQYbL0"
      },
      "source": [
        "num_classes=len(np.unique(labels))\n",
        "len_data=len(Cells)"
      ],
      "execution_count": null,
      "outputs": []
    },
    {
      "cell_type": "code",
      "metadata": {
        "id": "AhbL5d73Yc6r"
      },
      "source": [
        "(x_train,x_test)=Cells[(int)(0.1*len_data):],Cells[:(int)(0.1*len_data)]\n",
        "x_train = x_train.astype('float32')/255\n",
        "x_test = x_test.astype('float32')/255\n",
        "train_len=len(x_train)\n",
        "test_len=len(x_test)"
      ],
      "execution_count": null,
      "outputs": []
    },
    {
      "cell_type": "code",
      "metadata": {
        "id": "uP5--WW2YdGX"
      },
      "source": [
        "(y_train,y_test)=labels[(int)(0.1*len_data):],labels[:(int)(0.1*len_data)]"
      ],
      "execution_count": null,
      "outputs": []
    },
    {
      "cell_type": "code",
      "metadata": {
        "id": "ecDyWuEKYee1"
      },
      "source": [
        "y_train=keras.utils.to_categorical(y_train,num_classes)\n",
        "y_test=keras.utils.to_categorical(y_test,num_classes)"
      ],
      "execution_count": null,
      "outputs": []
    },
    {
      "cell_type": "code",
      "metadata": {
        "id": "piT6UWCWYfpA"
      },
      "source": [
        "from keras.preprocessing.image import ImageDataGenerator\n",
        " \n",
        "datagen = ImageDataGenerator(\n",
        "        featurewise_center=False,\n",
        "        samplewise_center=False,\n",
        "        featurewise_std_normalization=False,\n",
        "        samplewise_std_normalization=False,\n",
        "        zca_whitening=False,  \n",
        "        rotation_range=10,\n",
        "        zoom_range = 0.1,  \n",
        "        width_shift_range=0.1,\n",
        "        height_shift_range=0.1,\n",
        "        horizontal_flip=False,  \n",
        "        vertical_flip=False)  \n",
        " \n",
        "datagen.fit(x_train)"
      ],
      "execution_count": null,
      "outputs": []
    },
    {
      "cell_type": "code",
      "metadata": {
        "id": "b8zBzA-zYiDO",
        "colab": {
          "base_uri": "https://localhost:8080/",
          "height": 697
        },
        "outputId": "2a10444d-ac8e-4f04-d74c-ea11caa718fe"
      },
      "source": [
        "model=Sequential()\n",
        "model.add(Conv2D(filters=32,kernel_size=(3,3),activation=\"relu\",input_shape=(64,64,3)))\n",
        "model.add(MaxPooling2D(pool_size=2))\n",
        "model.add(Conv2D(filters=64,kernel_size=(3,3),activation=\"relu\"))\n",
        "model.add(MaxPooling2D(pool_size=2))\n",
        "model.add(Conv2D(filters=128,kernel_size=(3,3),activation=\"relu\"))\n",
        "model.add(MaxPooling2D(pool_size=2))\n",
        "model.add(Conv2D(filters=256,kernel_size=(3,3),activation=\"relu\"))\n",
        "model.add(MaxPooling2D(pool_size=2))\n",
        "model.add(Flatten())\n",
        "model.add(Dense(500,activation=\"relu\"))\n",
        "model.add(Dropout(0.2))\n",
        "model.add(Dense(500,activation=\"relu\"))\n",
        "model.add(Dropout(0.2))\n",
        "model.add(Dense(500,activation=\"relu\"))\n",
        "model.add(Dropout(0.2))\n",
        "model.add(Dense(2,activation=\"softmax\"))\n",
        "model.summary()"
      ],
      "execution_count": null,
      "outputs": [
        {
          "output_type": "stream",
          "text": [
            "Model: \"sequential\"\n",
            "_________________________________________________________________\n",
            "Layer (type)                 Output Shape              Param #   \n",
            "=================================================================\n",
            "conv2d (Conv2D)              (None, 62, 62, 32)        896       \n",
            "_________________________________________________________________\n",
            "max_pooling2d (MaxPooling2D) (None, 31, 31, 32)        0         \n",
            "_________________________________________________________________\n",
            "conv2d_1 (Conv2D)            (None, 29, 29, 64)        18496     \n",
            "_________________________________________________________________\n",
            "max_pooling2d_1 (MaxPooling2 (None, 14, 14, 64)        0         \n",
            "_________________________________________________________________\n",
            "conv2d_2 (Conv2D)            (None, 12, 12, 128)       73856     \n",
            "_________________________________________________________________\n",
            "max_pooling2d_2 (MaxPooling2 (None, 6, 6, 128)         0         \n",
            "_________________________________________________________________\n",
            "conv2d_3 (Conv2D)            (None, 4, 4, 256)         295168    \n",
            "_________________________________________________________________\n",
            "max_pooling2d_3 (MaxPooling2 (None, 2, 2, 256)         0         \n",
            "_________________________________________________________________\n",
            "flatten (Flatten)            (None, 1024)              0         \n",
            "_________________________________________________________________\n",
            "dense (Dense)                (None, 500)               512500    \n",
            "_________________________________________________________________\n",
            "dropout (Dropout)            (None, 500)               0         \n",
            "_________________________________________________________________\n",
            "dense_1 (Dense)              (None, 500)               250500    \n",
            "_________________________________________________________________\n",
            "dropout_1 (Dropout)          (None, 500)               0         \n",
            "_________________________________________________________________\n",
            "dense_2 (Dense)              (None, 500)               250500    \n",
            "_________________________________________________________________\n",
            "dropout_2 (Dropout)          (None, 500)               0         \n",
            "_________________________________________________________________\n",
            "dense_3 (Dense)              (None, 2)                 1002      \n",
            "=================================================================\n",
            "Total params: 1,402,918\n",
            "Trainable params: 1,402,918\n",
            "Non-trainable params: 0\n",
            "_________________________________________________________________\n"
          ],
          "name": "stdout"
        }
      ]
    },
    {
      "cell_type": "code",
      "metadata": {
        "id": "VfQBOxW_YjU0"
      },
      "source": [
        "model.compile(loss='categorical_crossentropy', optimizer='adam', metrics=['accuracy'])"
      ],
      "execution_count": null,
      "outputs": []
    },
    {
      "cell_type": "code",
      "metadata": {
        "id": "dEtUCQCBYk6F",
        "colab": {
          "base_uri": "https://localhost:8080/",
          "height": 1000
        },
        "outputId": "a30a65d9-ea19-4294-80ee-dfe8ae758474"
      },
      "source": [
        "history = model.fit(x = x_train, y = y_train,\n",
        "                    epochs = 150, validation_data = (x_test,y_test),\n",
        "                    verbose = 1)"
      ],
      "execution_count": null,
      "outputs": [
        {
          "output_type": "stream",
          "text": [
            "Epoch 1/150\n",
            "776/776 [==============================] - 12s 15ms/step - loss: 0.2362 - accuracy: 0.9022 - val_loss: 0.1547 - val_accuracy: 0.9543\n",
            "Epoch 2/150\n",
            "776/776 [==============================] - 12s 15ms/step - loss: 0.1467 - accuracy: 0.9540 - val_loss: 0.1477 - val_accuracy: 0.9514\n",
            "Epoch 3/150\n",
            "776/776 [==============================] - 12s 15ms/step - loss: 0.1387 - accuracy: 0.9553 - val_loss: 0.1373 - val_accuracy: 0.9521\n",
            "Epoch 4/150\n",
            "776/776 [==============================] - 12s 15ms/step - loss: 0.1339 - accuracy: 0.9573 - val_loss: 0.1349 - val_accuracy: 0.9535\n",
            "Epoch 5/150\n",
            "776/776 [==============================] - 12s 15ms/step - loss: 0.1242 - accuracy: 0.9586 - val_loss: 0.1223 - val_accuracy: 0.9568\n",
            "Epoch 6/150\n",
            "776/776 [==============================] - 12s 15ms/step - loss: 0.1193 - accuracy: 0.9601 - val_loss: 0.1357 - val_accuracy: 0.9568\n",
            "Epoch 7/150\n",
            "776/776 [==============================] - 12s 15ms/step - loss: 0.1116 - accuracy: 0.9624 - val_loss: 0.1185 - val_accuracy: 0.9583\n",
            "Epoch 8/150\n",
            "776/776 [==============================] - 12s 15ms/step - loss: 0.1054 - accuracy: 0.9638 - val_loss: 0.1258 - val_accuracy: 0.9568\n",
            "Epoch 9/150\n",
            "776/776 [==============================] - 12s 16ms/step - loss: 0.1005 - accuracy: 0.9656 - val_loss: 0.1255 - val_accuracy: 0.9593\n",
            "Epoch 10/150\n",
            "776/776 [==============================] - 12s 15ms/step - loss: 0.0914 - accuracy: 0.9694 - val_loss: 0.1315 - val_accuracy: 0.9437\n",
            "Epoch 11/150\n",
            "776/776 [==============================] - 12s 15ms/step - loss: 0.0857 - accuracy: 0.9708 - val_loss: 0.1364 - val_accuracy: 0.9608\n",
            "Epoch 12/150\n",
            "776/776 [==============================] - 12s 15ms/step - loss: 0.0771 - accuracy: 0.9742 - val_loss: 0.1477 - val_accuracy: 0.9575\n",
            "Epoch 13/150\n",
            "776/776 [==============================] - 11s 15ms/step - loss: 0.0712 - accuracy: 0.9754 - val_loss: 0.1310 - val_accuracy: 0.9546\n",
            "Epoch 14/150\n",
            "776/776 [==============================] - 11s 15ms/step - loss: 0.0677 - accuracy: 0.9783 - val_loss: 0.1266 - val_accuracy: 0.9554\n",
            "Epoch 15/150\n",
            "776/776 [==============================] - 12s 15ms/step - loss: 0.0625 - accuracy: 0.9793 - val_loss: 0.1674 - val_accuracy: 0.9561\n",
            "Epoch 16/150\n",
            "776/776 [==============================] - 12s 15ms/step - loss: 0.0536 - accuracy: 0.9825 - val_loss: 0.1568 - val_accuracy: 0.9543\n",
            "Epoch 17/150\n",
            "776/776 [==============================] - 12s 15ms/step - loss: 0.0513 - accuracy: 0.9819 - val_loss: 0.1581 - val_accuracy: 0.9506\n",
            "Epoch 18/150\n",
            "776/776 [==============================] - 12s 15ms/step - loss: 0.0449 - accuracy: 0.9861 - val_loss: 0.1712 - val_accuracy: 0.9543\n",
            "Epoch 19/150\n",
            "776/776 [==============================] - 12s 15ms/step - loss: 0.0485 - accuracy: 0.9852 - val_loss: 0.2352 - val_accuracy: 0.9510\n",
            "Epoch 20/150\n",
            "776/776 [==============================] - 12s 15ms/step - loss: 0.0366 - accuracy: 0.9881 - val_loss: 0.2480 - val_accuracy: 0.9532\n",
            "Epoch 21/150\n",
            "776/776 [==============================] - 12s 15ms/step - loss: 0.0385 - accuracy: 0.9877 - val_loss: 0.2536 - val_accuracy: 0.9477\n",
            "Epoch 22/150\n",
            "776/776 [==============================] - 12s 15ms/step - loss: 0.0381 - accuracy: 0.9873 - val_loss: 0.2927 - val_accuracy: 0.9503\n",
            "Epoch 23/150\n",
            "776/776 [==============================] - 12s 15ms/step - loss: 0.0396 - accuracy: 0.9880 - val_loss: 0.1943 - val_accuracy: 0.9550\n",
            "Epoch 24/150\n",
            "776/776 [==============================] - 12s 15ms/step - loss: 0.0299 - accuracy: 0.9904 - val_loss: 0.3548 - val_accuracy: 0.9463\n",
            "Epoch 25/150\n",
            "776/776 [==============================] - 12s 15ms/step - loss: 0.0299 - accuracy: 0.9898 - val_loss: 0.2389 - val_accuracy: 0.9514\n",
            "Epoch 26/150\n",
            "776/776 [==============================] - 12s 15ms/step - loss: 0.0343 - accuracy: 0.9894 - val_loss: 0.2651 - val_accuracy: 0.9477\n",
            "Epoch 27/150\n",
            "776/776 [==============================] - 12s 15ms/step - loss: 0.0284 - accuracy: 0.9904 - val_loss: 0.2525 - val_accuracy: 0.9532\n",
            "Epoch 28/150\n",
            "776/776 [==============================] - 12s 15ms/step - loss: 0.0227 - accuracy: 0.9927 - val_loss: 0.2573 - val_accuracy: 0.9492\n",
            "Epoch 29/150\n",
            "776/776 [==============================] - 12s 15ms/step - loss: 0.0246 - accuracy: 0.9915 - val_loss: 0.2524 - val_accuracy: 0.9543\n",
            "Epoch 30/150\n",
            "776/776 [==============================] - 12s 15ms/step - loss: 0.0220 - accuracy: 0.9927 - val_loss: 0.3733 - val_accuracy: 0.9532\n",
            "Epoch 31/150\n",
            "776/776 [==============================] - 12s 15ms/step - loss: 0.0260 - accuracy: 0.9908 - val_loss: 0.2568 - val_accuracy: 0.9506\n",
            "Epoch 32/150\n",
            "776/776 [==============================] - 12s 15ms/step - loss: 0.0225 - accuracy: 0.9931 - val_loss: 0.3906 - val_accuracy: 0.9528\n",
            "Epoch 33/150\n",
            "776/776 [==============================] - 12s 15ms/step - loss: 0.0187 - accuracy: 0.9942 - val_loss: 0.5430 - val_accuracy: 0.9535\n",
            "Epoch 34/150\n",
            "776/776 [==============================] - 12s 15ms/step - loss: 0.0237 - accuracy: 0.9921 - val_loss: 0.2810 - val_accuracy: 0.9575\n",
            "Epoch 35/150\n",
            "776/776 [==============================] - 12s 15ms/step - loss: 0.0141 - accuracy: 0.9954 - val_loss: 0.4485 - val_accuracy: 0.9521\n",
            "Epoch 36/150\n",
            "776/776 [==============================] - 12s 15ms/step - loss: 0.0316 - accuracy: 0.9914 - val_loss: 0.3250 - val_accuracy: 0.9477\n",
            "Epoch 37/150\n",
            "776/776 [==============================] - 12s 15ms/step - loss: 0.0165 - accuracy: 0.9943 - val_loss: 0.3810 - val_accuracy: 0.9517\n",
            "Epoch 38/150\n",
            "776/776 [==============================] - 12s 15ms/step - loss: 0.0155 - accuracy: 0.9947 - val_loss: 0.4650 - val_accuracy: 0.9554\n",
            "Epoch 39/150\n",
            "776/776 [==============================] - 11s 15ms/step - loss: 0.0216 - accuracy: 0.9935 - val_loss: 0.5122 - val_accuracy: 0.9525\n",
            "Epoch 40/150\n",
            "776/776 [==============================] - 11s 15ms/step - loss: 0.0236 - accuracy: 0.9930 - val_loss: 0.2875 - val_accuracy: 0.9503\n",
            "Epoch 41/150\n",
            "396/776 [==============>...............] - ETA: 5s - loss: 0.0159 - accuracy: 0.9946"
          ],
          "name": "stdout"
        }
      ]
    },
    {
      "cell_type": "code",
      "metadata": {
        "id": "iRjZd96tiA_w"
      },
      "source": [
        "model.save(\"/content/drive/My Drive/Colab Notebooks/Baselinenet_nopad_150epoch64/BaselineNetNoPad150Epoch64.h5\")"
      ],
      "execution_count": null,
      "outputs": []
    },
    {
      "cell_type": "code",
      "metadata": {
        "id": "c_rgcIljZtxY"
      },
      "source": [
        "from sklearn.metrics import confusion_matrix\n",
        "pred = model.predict(x_test)\n",
        "pred = np.argmax(pred,axis = 1) \n",
        "y_true = np.argmax(y_test,axis = 1)"
      ],
      "execution_count": null,
      "outputs": []
    },
    {
      "cell_type": "code",
      "metadata": {
        "id": "OIJGnOAuZu8Y"
      },
      "source": [
        "CM = confusion_matrix(y_true, pred)\n",
        "from mlxtend.plotting import plot_confusion_matrix\n",
        "fig, ax = plot_confusion_matrix(conf_mat=CM ,  figsize=(5, 5))\n",
        "plt.show()"
      ],
      "execution_count": null,
      "outputs": []
    }
  ]
}