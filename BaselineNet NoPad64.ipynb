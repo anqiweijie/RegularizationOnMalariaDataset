{
  "nbformat": 4,
  "nbformat_minor": 0,
  "metadata": {
    "colab": {
      "name": "PKL BaselineNet NoPad64.ipynb",
      "provenance": [],
      "collapsed_sections": []
    },
    "kernelspec": {
      "name": "python3",
      "display_name": "Python 3"
    },
    "accelerator": "GPU"
  },
  "cells": [
    {
      "cell_type": "code",
      "metadata": {
        "id": "lFiUw7DggWsG",
        "colab": {
          "base_uri": "https://localhost:8080/",
          "height": 34
        },
        "outputId": "0a07bf73-9874-4181-b07a-d4fdb7232a00"
      },
      "source": [
        "import numpy as np\n",
        "import matplotlib.pyplot as plt\n",
        "from PIL import Image\n",
        "import os\n",
        "import cv2\n",
        "import tensorflow as tf\n",
        "import keras\n",
        "from keras.models import Sequential\n",
        "from keras.layers import Conv2D,MaxPooling2D,Dense,Flatten,Dropout"
      ],
      "execution_count": null,
      "outputs": [
        {
          "output_type": "stream",
          "text": [
            "Using TensorFlow backend.\n"
          ],
          "name": "stderr"
        }
      ]
    },
    {
      "cell_type": "code",
      "metadata": {
        "id": "UeeHbLwU9v11"
      },
      "source": [
        "data=[]\n",
        "labels=[]\n",
        "Parasitized=os.listdir(\"/content/drive/My Drive/Colab Notebooks/Dataset/cell_images/Parasitized/\")\n",
        "for a in Parasitized:\n",
        "    try:\n",
        "        image=cv2.imread(\"/content/drive/My Drive/Colab Notebooks/Dataset/cell_images/Parasitized/\"+a)\n",
        "        image_from_array = Image.fromarray(image, 'RGB')\n",
        "        size_image = image_from_array.resize((64, 64))\n",
        "        data.append(np.array(size_image))\n",
        "        labels.append(0)\n",
        "    except AttributeError:\n",
        "        print(\"\")\n",
        "\n",
        "Uninfected=os.listdir(\"/content/drive/My Drive/Colab Notebooks/Dataset/cell_images/Uninfected/\")\n",
        "for b in Uninfected:\n",
        "    try:\n",
        "        image=cv2.imread(\"/content/drive/My Drive/Colab Notebooks/Dataset/cell_images/Uninfected/\"+b)\n",
        "        image_from_array = Image.fromarray(image, 'RGB')\n",
        "        size_image = image_from_array.resize((64, 64))\n",
        "        data.append(np.array(size_image))\n",
        "        labels.append(1)\n",
        "    except AttributeError:\n",
        "        print(\"\")"
      ],
      "execution_count": null,
      "outputs": []
    },
    {
      "cell_type": "code",
      "metadata": {
        "id": "gIsrtu0vHQzI"
      },
      "source": [
        "Cells=np.array(data)\n",
        "labels=np.array(labels)"
      ],
      "execution_count": null,
      "outputs": []
    },
    {
      "cell_type": "code",
      "metadata": {
        "id": "IAycSC1bHVHd"
      },
      "source": [
        "np.save(\"/content/drive/My Drive/Colab Notebooks/Cells64\",Cells)\n",
        "np.save(\"/content/drive/My Drive/Colab Notebooks/labels64\",labels)"
      ],
      "execution_count": null,
      "outputs": []
    },
    {
      "cell_type": "code",
      "metadata": {
        "id": "Pwl9X2jbgdWd"
      },
      "source": [
        "Cells=np.load(\"/content/drive/My Drive/Colab Notebooks/Cells64.npy\")\n",
        "labels=np.load(\"/content/drive/My Drive/Colab Notebooks/labels64.npy\")"
      ],
      "execution_count": null,
      "outputs": []
    },
    {
      "cell_type": "code",
      "metadata": {
        "id": "K32SB1j8gi_Y"
      },
      "source": [
        "s=np.arange(Cells.shape[0])\n",
        "np.random.shuffle(s)\n",
        "Cells=Cells[s]\n",
        "labels=labels[s]"
      ],
      "execution_count": null,
      "outputs": []
    },
    {
      "cell_type": "code",
      "metadata": {
        "id": "0edlZH18glaL"
      },
      "source": [
        "num_classes=len(np.unique(labels))\n",
        "len_data=len(Cells)"
      ],
      "execution_count": null,
      "outputs": []
    },
    {
      "cell_type": "code",
      "metadata": {
        "id": "u9i1YC2Agn2Q"
      },
      "source": [
        "(x_train,x_test)=Cells[(int)(0.1*len_data):],Cells[:(int)(0.1*len_data)]\n",
        "x_train = x_train.astype('float32')/255\n",
        "x_test = x_test.astype('float32')/255\n",
        "train_len=len(x_train)\n",
        "test_len=len(x_test)"
      ],
      "execution_count": null,
      "outputs": []
    },
    {
      "cell_type": "code",
      "metadata": {
        "id": "xDAJSKUxgpoo"
      },
      "source": [
        "(y_train,y_test)=labels[(int)(0.1*len_data):],labels[:(int)(0.1*len_data)]"
      ],
      "execution_count": null,
      "outputs": []
    },
    {
      "cell_type": "code",
      "metadata": {
        "id": "BCZbVPrtgq8F"
      },
      "source": [
        "y_train=keras.utils.to_categorical(y_train,num_classes)\n",
        "y_test=keras.utils.to_categorical(y_test,num_classes)"
      ],
      "execution_count": null,
      "outputs": []
    },
    {
      "cell_type": "code",
      "metadata": {
        "id": "5Hi9NcXqgspo"
      },
      "source": [
        "from keras.preprocessing.image import ImageDataGenerator\n",
        " \n",
        "datagen = ImageDataGenerator(\n",
        "        featurewise_center=False,\n",
        "        samplewise_center=False,\n",
        "        featurewise_std_normalization=False,\n",
        "        samplewise_std_normalization=False,\n",
        "        zca_whitening=False,  \n",
        "        rotation_range=10,\n",
        "        zoom_range = 0.1,  \n",
        "        width_shift_range=0.1,\n",
        "        height_shift_range=0.1,\n",
        "        horizontal_flip=False,  \n",
        "        vertical_flip=False)  \n",
        " \n",
        "datagen.fit(x_train)"
      ],
      "execution_count": null,
      "outputs": []
    },
    {
      "cell_type": "code",
      "metadata": {
        "id": "3LF0LWejgvUC",
        "colab": {
          "base_uri": "https://localhost:8080/",
          "height": 697
        },
        "outputId": "6eb1d110-6de5-48fb-b083-7a6b7e1ac53c"
      },
      "source": [
        "model=Sequential()\n",
        "model.add(Conv2D(filters=32,kernel_size=(3,3),activation=\"relu\",input_shape=(64,64,3)))\n",
        "model.add(MaxPooling2D(pool_size=2))\n",
        "model.add(Conv2D(filters=64,kernel_size=(3,3),activation=\"relu\"))\n",
        "model.add(MaxPooling2D(pool_size=2))\n",
        "model.add(Conv2D(filters=128,kernel_size=(3,3),activation=\"relu\"))\n",
        "model.add(MaxPooling2D(pool_size=2))\n",
        "model.add(Conv2D(filters=256,kernel_size=(3,3),activation=\"relu\"))\n",
        "model.add(MaxPooling2D(pool_size=2))\n",
        "model.add(Flatten())\n",
        "model.add(Dense(500,activation=\"relu\"))\n",
        "model.add(Dropout(0.2))\n",
        "model.add(Dense(500,activation=\"relu\"))\n",
        "model.add(Dropout(0.2))\n",
        "model.add(Dense(500,activation=\"relu\"))\n",
        "model.add(Dropout(0.2))\n",
        "model.add(Dense(2,activation=\"softmax\"))\n",
        "model.summary()"
      ],
      "execution_count": null,
      "outputs": [
        {
          "output_type": "stream",
          "text": [
            "Model: \"sequential_5\"\n",
            "_________________________________________________________________\n",
            "Layer (type)                 Output Shape              Param #   \n",
            "=================================================================\n",
            "conv2d_17 (Conv2D)           (None, 62, 62, 32)        896       \n",
            "_________________________________________________________________\n",
            "max_pooling2d_17 (MaxPooling (None, 31, 31, 32)        0         \n",
            "_________________________________________________________________\n",
            "conv2d_18 (Conv2D)           (None, 29, 29, 64)        18496     \n",
            "_________________________________________________________________\n",
            "max_pooling2d_18 (MaxPooling (None, 14, 14, 64)        0         \n",
            "_________________________________________________________________\n",
            "conv2d_19 (Conv2D)           (None, 12, 12, 128)       73856     \n",
            "_________________________________________________________________\n",
            "max_pooling2d_19 (MaxPooling (None, 6, 6, 128)         0         \n",
            "_________________________________________________________________\n",
            "conv2d_20 (Conv2D)           (None, 4, 4, 256)         295168    \n",
            "_________________________________________________________________\n",
            "max_pooling2d_20 (MaxPooling (None, 2, 2, 256)         0         \n",
            "_________________________________________________________________\n",
            "flatten_5 (Flatten)          (None, 1024)              0         \n",
            "_________________________________________________________________\n",
            "dense_17 (Dense)             (None, 500)               512500    \n",
            "_________________________________________________________________\n",
            "dropout_13 (Dropout)         (None, 500)               0         \n",
            "_________________________________________________________________\n",
            "dense_18 (Dense)             (None, 500)               250500    \n",
            "_________________________________________________________________\n",
            "dropout_14 (Dropout)         (None, 500)               0         \n",
            "_________________________________________________________________\n",
            "dense_19 (Dense)             (None, 500)               250500    \n",
            "_________________________________________________________________\n",
            "dropout_15 (Dropout)         (None, 500)               0         \n",
            "_________________________________________________________________\n",
            "dense_20 (Dense)             (None, 2)                 1002      \n",
            "=================================================================\n",
            "Total params: 1,402,918\n",
            "Trainable params: 1,402,918\n",
            "Non-trainable params: 0\n",
            "_________________________________________________________________\n"
          ],
          "name": "stdout"
        }
      ]
    },
    {
      "cell_type": "code",
      "metadata": {
        "id": "7Qy_GYi1gyAT"
      },
      "source": [
        "model.compile(loss='categorical_crossentropy', optimizer='adam', metrics=['accuracy'])"
      ],
      "execution_count": null,
      "outputs": []
    },
    {
      "cell_type": "code",
      "metadata": {
        "id": "H69HdrGBg151",
        "colab": {
          "base_uri": "https://localhost:8080/",
          "height": 714
        },
        "outputId": "9d0a2080-38fa-410f-f363-0bd66dfbebfa"
      },
      "source": [
        "history = model.fit(x = x_train, y = y_train,\n",
        "                    epochs = 20, validation_data = (x_test,y_test),\n",
        "                    verbose = 1)"
      ],
      "execution_count": null,
      "outputs": [
        {
          "output_type": "stream",
          "text": [
            "Train on 24803 samples, validate on 2755 samples\n",
            "Epoch 1/20\n",
            "24803/24803 [==============================] - 8s 308us/step - loss: 0.2554 - accuracy: 0.8877 - val_loss: 0.1461 - val_accuracy: 0.9532\n",
            "Epoch 2/20\n",
            "24803/24803 [==============================] - 7s 296us/step - loss: 0.1402 - accuracy: 0.9564 - val_loss: 0.1366 - val_accuracy: 0.9510\n",
            "Epoch 3/20\n",
            "24803/24803 [==============================] - 8s 303us/step - loss: 0.1297 - accuracy: 0.9586 - val_loss: 0.1471 - val_accuracy: 0.9561\n",
            "Epoch 4/20\n",
            "24803/24803 [==============================] - 7s 297us/step - loss: 0.1256 - accuracy: 0.9583 - val_loss: 0.1398 - val_accuracy: 0.9557\n",
            "Epoch 5/20\n",
            "24803/24803 [==============================] - 7s 299us/step - loss: 0.1210 - accuracy: 0.9596 - val_loss: 0.1209 - val_accuracy: 0.9579\n",
            "Epoch 6/20\n",
            "24803/24803 [==============================] - 7s 300us/step - loss: 0.1119 - accuracy: 0.9644 - val_loss: 0.1362 - val_accuracy: 0.9543\n",
            "Epoch 7/20\n",
            "24803/24803 [==============================] - 7s 301us/step - loss: 0.1091 - accuracy: 0.9644 - val_loss: 0.1238 - val_accuracy: 0.9572\n",
            "Epoch 8/20\n",
            "24803/24803 [==============================] - 7s 300us/step - loss: 0.1056 - accuracy: 0.9662 - val_loss: 0.1268 - val_accuracy: 0.9554\n",
            "Epoch 9/20\n",
            "24803/24803 [==============================] - 7s 300us/step - loss: 0.1019 - accuracy: 0.9656 - val_loss: 0.1197 - val_accuracy: 0.9575\n",
            "Epoch 10/20\n",
            "24803/24803 [==============================] - 7s 295us/step - loss: 0.0951 - accuracy: 0.9686 - val_loss: 0.1352 - val_accuracy: 0.9474\n",
            "Epoch 11/20\n",
            "24803/24803 [==============================] - 7s 302us/step - loss: 0.0914 - accuracy: 0.9696 - val_loss: 0.1304 - val_accuracy: 0.9535\n",
            "Epoch 12/20\n",
            "24803/24803 [==============================] - 7s 297us/step - loss: 0.0839 - accuracy: 0.9712 - val_loss: 0.1425 - val_accuracy: 0.9568\n",
            "Epoch 13/20\n",
            "24803/24803 [==============================] - 7s 297us/step - loss: 0.0855 - accuracy: 0.9713 - val_loss: 0.1290 - val_accuracy: 0.9543\n",
            "Epoch 14/20\n",
            "24803/24803 [==============================] - 7s 295us/step - loss: 0.0761 - accuracy: 0.9745 - val_loss: 0.1444 - val_accuracy: 0.9514\n",
            "Epoch 15/20\n",
            "24803/24803 [==============================] - 7s 296us/step - loss: 0.0731 - accuracy: 0.9757 - val_loss: 0.1471 - val_accuracy: 0.9525\n",
            "Epoch 16/20\n",
            "24803/24803 [==============================] - 7s 297us/step - loss: 0.0651 - accuracy: 0.9777 - val_loss: 0.1646 - val_accuracy: 0.9525\n",
            "Epoch 17/20\n",
            "24803/24803 [==============================] - 7s 296us/step - loss: 0.0668 - accuracy: 0.9791 - val_loss: 0.1674 - val_accuracy: 0.9543\n",
            "Epoch 18/20\n",
            "24803/24803 [==============================] - 7s 297us/step - loss: 0.0566 - accuracy: 0.9813 - val_loss: 0.1564 - val_accuracy: 0.9561\n",
            "Epoch 19/20\n",
            "24803/24803 [==============================] - 7s 297us/step - loss: 0.0558 - accuracy: 0.9817 - val_loss: 0.1619 - val_accuracy: 0.9517\n",
            "Epoch 20/20\n",
            "24803/24803 [==============================] - 7s 297us/step - loss: 0.0514 - accuracy: 0.9838 - val_loss: 0.2586 - val_accuracy: 0.9492\n"
          ],
          "name": "stdout"
        }
      ]
    },
    {
      "cell_type": "code",
      "metadata": {
        "id": "IBYZcm5dg6lB"
      },
      "source": [
        "model.save(\"/content/drive/My Drive/Colab Notebooks/Baselinenet_nopad64/BaselineNetNoPad64.h5\")"
      ],
      "execution_count": null,
      "outputs": []
    },
    {
      "cell_type": "code",
      "metadata": {
        "id": "rA2kRfsdiVdq"
      },
      "source": [
        "from sklearn.metrics import confusion_matrix\n",
        "pred = model.predict(x_test)\n",
        "pred = np.argmax(pred,axis = 1) \n",
        "y_true = np.argmax(y_test,axis = 1)"
      ],
      "execution_count": null,
      "outputs": []
    },
    {
      "cell_type": "code",
      "metadata": {
        "id": "u4vriQ1hiVpI",
        "colab": {
          "base_uri": "https://localhost:8080/",
          "height": 334
        },
        "outputId": "c1d7c11a-8287-45f3-cd96-0c54b9f7e3e0"
      },
      "source": [
        "CM = confusion_matrix(y_true, pred)\n",
        "from mlxtend.plotting import plot_confusion_matrix\n",
        "fig, ax = plot_confusion_matrix(conf_mat=CM ,  figsize=(5, 5))\n",
        "plt.show()"
      ],
      "execution_count": null,
      "outputs": [
        {
          "output_type": "display_data",
          "data": {
            "image/png": "[encoded data removed]",
            "text/plain": [
              "<Figure size 360x360 with 1 Axes>"
            ]
          },
          "metadata": {
            "tags": [],
            "needs_background": "light"
          }
        }
      ]
    }
  ]
}