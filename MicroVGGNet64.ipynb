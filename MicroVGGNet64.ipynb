{
  "nbformat": 4,
  "nbformat_minor": 0,
  "metadata": {
    "colab": {
      "name": "PKL MicroVGGNet64.ipynb",
      "provenance": [],
      "collapsed_sections": []
    },
    "kernelspec": {
      "name": "python3",
      "display_name": "Python 3"
    },
    "accelerator": "GPU"
  },
  "cells": [
    {
      "cell_type": "code",
      "metadata": {
        "id": "6cZiH5JBTITn"
      },
      "source": [
        "import numpy as np\n",
        "import matplotlib.pyplot as plt\n",
        "from PIL import Image\n",
        "import os\n",
        "import cv2\n",
        "import tensorflow as tf\n",
        "import keras\n",
        "from keras.models import Sequential\n",
        "from keras.layers import Conv2D,Activation,MaxPooling2D,Dense,Flatten"
      ],
      "execution_count": null,
      "outputs": []
    },
    {
      "cell_type": "code",
      "metadata": {
        "id": "UeeHbLwU9v11"
      },
      "source": [
        "data=[]\n",
        "labels=[]\n",
        "Parasitized=os.listdir(\"/content/drive/My Drive/Colab Notebooks/Dataset/cell_images/Parasitized/\")\n",
        "for a in Parasitized:\n",
        "    try:\n",
        "        image=cv2.imread(\"/content/drive/My Drive/Colab Notebooks/Dataset/cell_images/Parasitized/\"+a)\n",
        "        image_from_array = Image.fromarray(image, 'RGB')\n",
        "        size_image = image_from_array.resize((64, 64))\n",
        "        data.append(np.array(size_image))\n",
        "        labels.append(0)\n",
        "    except AttributeError:\n",
        "        print(\"\")\n",
        "\n",
        "Uninfected=os.listdir(\"/content/drive/My Drive/Colab Notebooks/Dataset/cell_images/Uninfected/\")\n",
        "for b in Uninfected:\n",
        "    try:\n",
        "        image=cv2.imread(\"/content/drive/My Drive/Colab Notebooks/Dataset/cell_images/Uninfected/\"+b)\n",
        "        image_from_array = Image.fromarray(image, 'RGB')\n",
        "        size_image = image_from_array.resize((64, 64))\n",
        "        data.append(np.array(size_image))\n",
        "        labels.append(1)\n",
        "    except AttributeError:\n",
        "        print(\"\")"
      ],
      "execution_count": null,
      "outputs": []
    },
    {
      "cell_type": "code",
      "metadata": {
        "id": "gIsrtu0vHQzI"
      },
      "source": [
        "Cells=np.array(data)\n",
        "labels=np.array(labels)"
      ],
      "execution_count": null,
      "outputs": []
    },
    {
      "cell_type": "code",
      "metadata": {
        "id": "IAycSC1bHVHd"
      },
      "source": [
        "np.save(\"/content/drive/My Drive/Colab Notebooks/Cells64\",Cells)\n",
        "np.save(\"/content/drive/My Drive/Colab Notebooks/labels64\",labels)"
      ],
      "execution_count": null,
      "outputs": []
    },
    {
      "cell_type": "code",
      "metadata": {
        "id": "4oaUH_jUnet9"
      },
      "source": [
        "Cells=np.load(\"/content/drive/My Drive/Colab Notebooks/Cells64.npy\")\n",
        "labels=np.load(\"/content/drive/My Drive/Colab Notebooks/labels64.npy\")"
      ],
      "execution_count": null,
      "outputs": []
    },
    {
      "cell_type": "code",
      "metadata": {
        "id": "RWs0AhMRng-j"
      },
      "source": [
        "s=np.arange(Cells.shape[0])\n",
        "np.random.shuffle(s)\n",
        "Cells=Cells[s]\n",
        "labels=labels[s]"
      ],
      "execution_count": null,
      "outputs": []
    },
    {
      "cell_type": "code",
      "metadata": {
        "id": "w_i-JjGenieB"
      },
      "source": [
        "num_classes=len(np.unique(labels))\n",
        "len_data=len(Cells)"
      ],
      "execution_count": null,
      "outputs": []
    },
    {
      "cell_type": "code",
      "metadata": {
        "id": "aX_g8fUFnl6w"
      },
      "source": [
        "(x_train,x_test)=Cells[(int)(0.1*len_data):],Cells[:(int)(0.1*len_data)]\n",
        "x_train = x_train.astype('float32')/255\n",
        "x_test = x_test.astype('float32')/255\n",
        "train_len=len(x_train)\n",
        "test_len=len(x_test)"
      ],
      "execution_count": null,
      "outputs": []
    },
    {
      "cell_type": "code",
      "metadata": {
        "id": "a6agHJ0jnnum"
      },
      "source": [
        "(y_train,y_test)=labels[(int)(0.1*len_data):],labels[:(int)(0.1*len_data)]"
      ],
      "execution_count": null,
      "outputs": []
    },
    {
      "cell_type": "code",
      "metadata": {
        "id": "fTTN4xD2npUL"
      },
      "source": [
        "y_train=keras.utils.to_categorical(y_train,num_classes)\n",
        "y_test=keras.utils.to_categorical(y_test,num_classes)"
      ],
      "execution_count": null,
      "outputs": []
    },
    {
      "cell_type": "code",
      "metadata": {
        "id": "bg0Uy2Fantp7",
        "colab": {
          "base_uri": "https://localhost:8080/",
          "height": 629
        },
        "outputId": "2d0628b0-4089-4733-a7a7-44ed38bb6b00"
      },
      "source": [
        "model=Sequential()\n",
        "model.add(Conv2D(filters=32,kernel_size=(3,3),padding=\"same\",input_shape=(64,64,3)))\n",
        "model.add(Activation(\"relu\"))\n",
        "model.add(Conv2D(filters=32,kernel_size=(3,3),padding=\"same\"))\n",
        "model.add(Activation(\"relu\"))\n",
        "model.add(MaxPooling2D(pool_size=2))\n",
        "model.add(Conv2D(filters=64,kernel_size=(3,3),padding=\"same\"))\n",
        "model.add(Activation(\"relu\"))\n",
        "model.add(Conv2D(filters=64,kernel_size=(3,3),padding=\"same\"))\n",
        "model.add(Activation(\"relu\"))\n",
        "model.add(MaxPooling2D(pool_size=2))\n",
        "model.add(Flatten())\n",
        "model.add(Dense(5000))\n",
        "model.add(Dense(2))\n",
        "model.add(Activation(\"softmax\"))\n",
        "model.summary()"
      ],
      "execution_count": null,
      "outputs": [
        {
          "output_type": "stream",
          "text": [
            "Model: \"sequential_1\"\n",
            "_________________________________________________________________\n",
            "Layer (type)                 Output Shape              Param #   \n",
            "=================================================================\n",
            "conv2d_1 (Conv2D)            (None, 64, 64, 32)        896       \n",
            "_________________________________________________________________\n",
            "activation_1 (Activation)    (None, 64, 64, 32)        0         \n",
            "_________________________________________________________________\n",
            "conv2d_2 (Conv2D)            (None, 64, 64, 32)        9248      \n",
            "_________________________________________________________________\n",
            "activation_2 (Activation)    (None, 64, 64, 32)        0         \n",
            "_________________________________________________________________\n",
            "max_pooling2d_1 (MaxPooling2 (None, 32, 32, 32)        0         \n",
            "_________________________________________________________________\n",
            "conv2d_3 (Conv2D)            (None, 32, 32, 64)        18496     \n",
            "_________________________________________________________________\n",
            "activation_3 (Activation)    (None, 32, 32, 64)        0         \n",
            "_________________________________________________________________\n",
            "conv2d_4 (Conv2D)            (None, 32, 32, 64)        36928     \n",
            "_________________________________________________________________\n",
            "activation_4 (Activation)    (None, 32, 32, 64)        0         \n",
            "_________________________________________________________________\n",
            "max_pooling2d_2 (MaxPooling2 (None, 16, 16, 64)        0         \n",
            "_________________________________________________________________\n",
            "flatten_1 (Flatten)          (None, 16384)             0         \n",
            "_________________________________________________________________\n",
            "dense_1 (Dense)              (None, 5000)              81925000  \n",
            "_________________________________________________________________\n",
            "dense_2 (Dense)              (None, 2)                 10002     \n",
            "_________________________________________________________________\n",
            "activation_5 (Activation)    (None, 2)                 0         \n",
            "=================================================================\n",
            "Total params: 82,000,570\n",
            "Trainable params: 82,000,570\n",
            "Non-trainable params: 0\n",
            "_________________________________________________________________\n"
          ],
          "name": "stdout"
        }
      ]
    },
    {
      "cell_type": "code",
      "metadata": {
        "id": "1kP0TECvnvxE"
      },
      "source": [
        "model.compile(loss='categorical_crossentropy', optimizer='adam', metrics=['accuracy'])"
      ],
      "execution_count": null,
      "outputs": []
    },
    {
      "cell_type": "code",
      "metadata": {
        "id": "p1FBBmdyn1jh",
        "colab": {
          "base_uri": "https://localhost:8080/",
          "height": 714
        },
        "outputId": "9eacc8ae-f434-4be6-a0e3-9ebf93760c56"
      },
      "source": [
        "history = model.fit(x = x_train, y = y_train,\n",
        "                    epochs = 20, validation_data = (x_test,y_test),\n",
        "                    verbose = 1)"
      ],
      "execution_count": null,
      "outputs": [
        {
          "output_type": "stream",
          "text": [
            "Train on 24803 samples, validate on 2755 samples\n",
            "Epoch 1/20\n",
            "24803/24803 [==============================] - 98s 4ms/step - loss: 0.6896 - accuracy: 0.5851 - val_loss: 0.6756 - val_accuracy: 0.5641\n",
            "Epoch 2/20\n",
            "24803/24803 [==============================] - 92s 4ms/step - loss: 0.6588 - accuracy: 0.6102 - val_loss: 0.6451 - val_accuracy: 0.6160\n",
            "Epoch 3/20\n",
            "24803/24803 [==============================] - 92s 4ms/step - loss: 0.6280 - accuracy: 0.6534 - val_loss: 0.6411 - val_accuracy: 0.6352\n",
            "Epoch 4/20\n",
            "24803/24803 [==============================] - 92s 4ms/step - loss: 0.5708 - accuracy: 0.6952 - val_loss: 0.2010 - val_accuracy: 0.9325\n",
            "Epoch 5/20\n",
            "24803/24803 [==============================] - 92s 4ms/step - loss: 0.1727 - accuracy: 0.9454 - val_loss: 0.1557 - val_accuracy: 0.9452\n",
            "Epoch 6/20\n",
            "24803/24803 [==============================] - 92s 4ms/step - loss: 0.1459 - accuracy: 0.9535 - val_loss: 0.1617 - val_accuracy: 0.9561\n",
            "Epoch 7/20\n",
            "24803/24803 [==============================] - 92s 4ms/step - loss: 0.1404 - accuracy: 0.9542 - val_loss: 0.1654 - val_accuracy: 0.9528\n",
            "Epoch 8/20\n",
            "24803/24803 [==============================] - 92s 4ms/step - loss: 0.1324 - accuracy: 0.9572 - val_loss: 0.1741 - val_accuracy: 0.9510\n",
            "Epoch 9/20\n",
            "24803/24803 [==============================] - 92s 4ms/step - loss: 0.1261 - accuracy: 0.9585 - val_loss: 0.1626 - val_accuracy: 0.9459\n",
            "Epoch 10/20\n",
            "24803/24803 [==============================] - 92s 4ms/step - loss: 0.1210 - accuracy: 0.9603 - val_loss: 0.1608 - val_accuracy: 0.9539\n",
            "Epoch 11/20\n",
            "24803/24803 [==============================] - 92s 4ms/step - loss: 0.1167 - accuracy: 0.9621 - val_loss: 0.1583 - val_accuracy: 0.9481\n",
            "Epoch 12/20\n",
            "24803/24803 [==============================] - 92s 4ms/step - loss: 0.1159 - accuracy: 0.9615 - val_loss: 0.1714 - val_accuracy: 0.9495\n",
            "Epoch 13/20\n",
            "24803/24803 [==============================] - 92s 4ms/step - loss: 0.1116 - accuracy: 0.9618 - val_loss: 0.1679 - val_accuracy: 0.9441\n",
            "Epoch 14/20\n",
            "24803/24803 [==============================] - 92s 4ms/step - loss: 0.1054 - accuracy: 0.9634 - val_loss: 0.1678 - val_accuracy: 0.9437\n",
            "Epoch 15/20\n",
            "24803/24803 [==============================] - 92s 4ms/step - loss: 0.1016 - accuracy: 0.9654 - val_loss: 0.1959 - val_accuracy: 0.9390\n",
            "Epoch 16/20\n",
            "24803/24803 [==============================] - 92s 4ms/step - loss: 0.0963 - accuracy: 0.9669 - val_loss: 0.1869 - val_accuracy: 0.9477\n",
            "Epoch 17/20\n",
            "24803/24803 [==============================] - 92s 4ms/step - loss: 0.1011 - accuracy: 0.9671 - val_loss: 0.1961 - val_accuracy: 0.9499\n",
            "Epoch 18/20\n",
            "24803/24803 [==============================] - 92s 4ms/step - loss: 0.0872 - accuracy: 0.9700 - val_loss: 0.2145 - val_accuracy: 0.9426\n",
            "Epoch 19/20\n",
            "24803/24803 [==============================] - 92s 4ms/step - loss: 0.0842 - accuracy: 0.9709 - val_loss: 0.2310 - val_accuracy: 0.9456\n",
            "Epoch 20/20\n",
            "24803/24803 [==============================] - 92s 4ms/step - loss: 0.0834 - accuracy: 0.9713 - val_loss: 0.2136 - val_accuracy: 0.9430\n"
          ],
          "name": "stdout"
        }
      ]
    },
    {
      "cell_type": "code",
      "metadata": {
        "id": "IV-f1fQxoYnu"
      },
      "source": [
        "model.save(\"/content/drive/My Drive/Colab Notebooks/Microvggnet64/MicroVGGNet64.h5\")"
      ],
      "execution_count": null,
      "outputs": []
    },
    {
      "cell_type": "code",
      "metadata": {
        "id": "FWdbKtOvoY_I"
      },
      "source": [
        "from sklearn.metrics import confusion_matrix\n",
        "pred = model.predict(x_test)\n",
        "pred = np.argmax(pred,axis = 1) \n",
        "y_true = np.argmax(y_test,axis = 1)"
      ],
      "execution_count": null,
      "outputs": []
    },
    {
      "cell_type": "code",
      "metadata": {
        "id": "suWIKJgbpV_K",
        "colab": {
          "base_uri": "https://localhost:8080/",
          "height": 334
        },
        "outputId": "1790cecb-6bd7-4195-eb6e-4bb9034c8357"
      },
      "source": [
        "CM = confusion_matrix(y_true, pred)\n",
        "from mlxtend.plotting import plot_confusion_matrix\n",
        "fig, ax = plot_confusion_matrix(conf_mat=CM ,  figsize=(5, 5))\n",
        "plt.show()"
      ],
      "execution_count": null,
      "outputs": [
        {
          "output_type": "display_data",
          "data": {
            "image/png": "[encoded data removed]",
            "text/plain": [
              "<Figure size 360x360 with 1 Axes>"
            ]
          },
          "metadata": {
            "tags": [],
            "needs_background": "light"
          }
        }
      ]
    }
  ]
}