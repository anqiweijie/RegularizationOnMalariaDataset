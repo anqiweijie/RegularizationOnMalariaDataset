{
  "nbformat": 4,
  "nbformat_minor": 0,
  "metadata": {
    "colab": {
      "name": "PKL BaselineNet Reg64.ipynb",
      "provenance": [],
      "collapsed_sections": []
    },
    "kernelspec": {
      "name": "python3",
      "display_name": "Python 3"
    },
    "accelerator": "GPU"
  },
  "cells": [
    {
      "cell_type": "code",
      "metadata": {
        "id": "NxxBcFr_PSiu"
      },
      "source": [
        "import numpy as np\n",
        "import matplotlib.pyplot as plt\n",
        "from PIL import Image\n",
        "import os\n",
        "import cv2\n",
        "import tensorflow as tf\n",
        "import keras\n",
        "from keras.models import Sequential\n",
        "from keras.layers import Conv2D,MaxPooling2D,Dense,Flatten,Dropout"
      ],
      "execution_count": null,
      "outputs": []
    },
    {
      "cell_type": "code",
      "metadata": {
        "id": "UeeHbLwU9v11"
      },
      "source": [
        "data=[]\n",
        "labels=[]\n",
        "Parasitized=os.listdir(\"/content/drive/My Drive/Colab Notebooks/Dataset/cell_images/Parasitized/\")\n",
        "for a in Parasitized:\n",
        "    try:\n",
        "        image=cv2.imread(\"/content/drive/My Drive/Colab Notebooks/Dataset/cell_images/Parasitized/\"+a)\n",
        "        image_from_array = Image.fromarray(image, 'RGB')\n",
        "        size_image = image_from_array.resize((64, 64))\n",
        "        data.append(np.array(size_image))\n",
        "        labels.append(0)\n",
        "    except AttributeError:\n",
        "        print(\"\")\n",
        "\n",
        "Uninfected=os.listdir(\"/content/drive/My Drive/Colab Notebooks/Dataset/cell_images/Uninfected/\")\n",
        "for b in Uninfected:\n",
        "    try:\n",
        "        image=cv2.imread(\"/content/drive/My Drive/Colab Notebooks/Dataset/cell_images/Uninfected/\"+b)\n",
        "        image_from_array = Image.fromarray(image, 'RGB')\n",
        "        size_image = image_from_array.resize((64, 64))\n",
        "        data.append(np.array(size_image))\n",
        "        labels.append(1)\n",
        "    except AttributeError:\n",
        "        print(\"\")"
      ],
      "execution_count": null,
      "outputs": []
    },
    {
      "cell_type": "code",
      "metadata": {
        "id": "gIsrtu0vHQzI"
      },
      "source": [
        "Cells=np.array(data)\n",
        "labels=np.array(labels)"
      ],
      "execution_count": null,
      "outputs": []
    },
    {
      "cell_type": "code",
      "metadata": {
        "id": "IAycSC1bHVHd"
      },
      "source": [
        "np.save(\"/content/drive/My Drive/Colab Notebooks/Cells64\",Cells)\n",
        "np.save(\"/content/drive/My Drive/Colab Notebooks/labels64\",labels)"
      ],
      "execution_count": null,
      "outputs": []
    },
    {
      "cell_type": "code",
      "metadata": {
        "id": "_7u7qIh0P7rc"
      },
      "source": [
        "Cells=np.load(\"/content/drive/My Drive/Colab Notebooks/Cells64.npy\")\n",
        "labels=np.load(\"/content/drive/My Drive/Colab Notebooks/labels64.npy\")"
      ],
      "execution_count": null,
      "outputs": []
    },
    {
      "cell_type": "code",
      "metadata": {
        "id": "7TUTYf6GQAcs"
      },
      "source": [
        "s=np.arange(Cells.shape[0])\n",
        "np.random.shuffle(s)\n",
        "Cells=Cells[s]\n",
        "labels=labels[s]"
      ],
      "execution_count": null,
      "outputs": []
    },
    {
      "cell_type": "code",
      "metadata": {
        "id": "Q5TBoTOCQCTW"
      },
      "source": [
        "num_classes=len(np.unique(labels))\n",
        "len_data=len(Cells)"
      ],
      "execution_count": null,
      "outputs": []
    },
    {
      "cell_type": "code",
      "metadata": {
        "id": "xZvb2YG7QDlA"
      },
      "source": [
        "(x_train,x_test)=Cells[(int)(0.1*len_data):],Cells[:(int)(0.1*len_data)]\n",
        "x_train = x_train.astype('float32')/255\n",
        "x_test = x_test.astype('float32')/255\n",
        "train_len=len(x_train)\n",
        "test_len=len(x_test)"
      ],
      "execution_count": null,
      "outputs": []
    },
    {
      "cell_type": "code",
      "metadata": {
        "id": "-CWDF0p0QFEK"
      },
      "source": [
        "(y_train,y_test)=labels[(int)(0.1*len_data):],labels[:(int)(0.1*len_data)]"
      ],
      "execution_count": null,
      "outputs": []
    },
    {
      "cell_type": "code",
      "metadata": {
        "id": "mTOOvX0LQGeA"
      },
      "source": [
        "y_train=keras.utils.to_categorical(y_train,num_classes)\n",
        "y_test=keras.utils.to_categorical(y_test,num_classes)"
      ],
      "execution_count": null,
      "outputs": []
    },
    {
      "cell_type": "code",
      "metadata": {
        "id": "V0Ujk70oQH0S"
      },
      "source": [
        "from keras.preprocessing.image import ImageDataGenerator\n",
        " \n",
        "datagen = ImageDataGenerator(\n",
        "        featurewise_center=False,\n",
        "        samplewise_center=False,\n",
        "        featurewise_std_normalization=False,\n",
        "        samplewise_std_normalization=False,\n",
        "        zca_whitening=False,  \n",
        "        rotation_range=10,\n",
        "        zoom_range = 0.1,  \n",
        "        width_shift_range=0.1,\n",
        "        height_shift_range=0.1,\n",
        "        horizontal_flip=False,  \n",
        "        vertical_flip=False)  \n",
        " \n",
        "datagen.fit(x_train)"
      ],
      "execution_count": null,
      "outputs": []
    },
    {
      "cell_type": "code",
      "metadata": {
        "id": "ryPQVESSQKry",
        "colab": {
          "base_uri": "https://localhost:8080/",
          "height": 561
        },
        "outputId": "06bf7685-9cbd-4313-ffb1-2641ebcc53e9"
      },
      "source": [
        "model=Sequential()\n",
        "model.add(Conv2D(filters=32,kernel_size=(3,3),padding=\"same\",activation=\"relu\",input_shape=(64,64,3)))\n",
        "model.add(MaxPooling2D(pool_size=2))\n",
        "model.add(Conv2D(filters=64,kernel_size=(3,3),padding=\"same\",activation=\"relu\"))\n",
        "model.add(MaxPooling2D(pool_size=2))\n",
        "model.add(Conv2D(filters=128,kernel_size=(3,3),padding=\"same\",activation=\"relu\"))\n",
        "model.add(MaxPooling2D(pool_size=2))\n",
        "model.add(Conv2D(filters=128,kernel_size=(3,3),padding=\"same\",activation=\"relu\"))\n",
        "model.add(MaxPooling2D(pool_size=2))\n",
        "model.add(Flatten())\n",
        "model.add(Dense(1000,activation=\"relu\"))\n",
        "model.add(Dropout(0.2))\n",
        "model.add(Dense(2,activation=\"softmax\"))\n",
        "model.summary()"
      ],
      "execution_count": null,
      "outputs": [
        {
          "output_type": "stream",
          "text": [
            "Model: \"sequential_7\"\n",
            "_________________________________________________________________\n",
            "Layer (type)                 Output Shape              Param #   \n",
            "=================================================================\n",
            "conv2d_28 (Conv2D)           (None, 64, 64, 32)        896       \n",
            "_________________________________________________________________\n",
            "max_pooling2d_28 (MaxPooling (None, 32, 32, 32)        0         \n",
            "_________________________________________________________________\n",
            "conv2d_29 (Conv2D)           (None, 32, 32, 64)        18496     \n",
            "_________________________________________________________________\n",
            "max_pooling2d_29 (MaxPooling (None, 16, 16, 64)        0         \n",
            "_________________________________________________________________\n",
            "conv2d_30 (Conv2D)           (None, 16, 16, 128)       73856     \n",
            "_________________________________________________________________\n",
            "max_pooling2d_30 (MaxPooling (None, 8, 8, 128)         0         \n",
            "_________________________________________________________________\n",
            "conv2d_31 (Conv2D)           (None, 8, 8, 128)         147584    \n",
            "_________________________________________________________________\n",
            "max_pooling2d_31 (MaxPooling (None, 4, 4, 128)         0         \n",
            "_________________________________________________________________\n",
            "flatten_7 (Flatten)          (None, 2048)              0         \n",
            "_________________________________________________________________\n",
            "dense_14 (Dense)             (None, 1000)              2049000   \n",
            "_________________________________________________________________\n",
            "dropout_7 (Dropout)          (None, 1000)              0         \n",
            "_________________________________________________________________\n",
            "dense_15 (Dense)             (None, 2)                 2002      \n",
            "=================================================================\n",
            "Total params: 2,291,834\n",
            "Trainable params: 2,291,834\n",
            "Non-trainable params: 0\n",
            "_________________________________________________________________\n"
          ],
          "name": "stdout"
        }
      ]
    },
    {
      "cell_type": "code",
      "metadata": {
        "id": "DUSSvNzaQUjN"
      },
      "source": [
        "model.compile(loss='categorical_crossentropy', optimizer='adam', metrics=['accuracy'])"
      ],
      "execution_count": null,
      "outputs": []
    },
    {
      "cell_type": "code",
      "metadata": {
        "id": "ziwHhGQMQVrZ",
        "colab": {
          "base_uri": "https://localhost:8080/",
          "height": 697
        },
        "outputId": "dad2acd5-fa21-46df-bd31-1f7ce6b13182"
      },
      "source": [
        "history = model.fit(x = x_train, y = y_train,\n",
        "                    epochs = 20, validation_data = (x_test,y_test),\n",
        "                    verbose = 1)"
      ],
      "execution_count": null,
      "outputs": [
        {
          "output_type": "stream",
          "text": [
            "Epoch 1/20\n",
            "776/776 [==============================] - 12s 16ms/step - loss: 0.2394 - accuracy: 0.8986 - val_loss: 0.1544 - val_accuracy: 0.9561\n",
            "Epoch 2/20\n",
            "776/776 [==============================] - 12s 15ms/step - loss: 0.1343 - accuracy: 0.9563 - val_loss: 0.1364 - val_accuracy: 0.9612\n",
            "Epoch 3/20\n",
            "776/776 [==============================] - 12s 15ms/step - loss: 0.1256 - accuracy: 0.9584 - val_loss: 0.1371 - val_accuracy: 0.9601\n",
            "Epoch 4/20\n",
            "776/776 [==============================] - 12s 15ms/step - loss: 0.1151 - accuracy: 0.9619 - val_loss: 0.1340 - val_accuracy: 0.9644\n",
            "Epoch 5/20\n",
            "776/776 [==============================] - 12s 15ms/step - loss: 0.1108 - accuracy: 0.9632 - val_loss: 0.1174 - val_accuracy: 0.9648\n",
            "Epoch 6/20\n",
            "776/776 [==============================] - 12s 15ms/step - loss: 0.1036 - accuracy: 0.9641 - val_loss: 0.1104 - val_accuracy: 0.9615\n",
            "Epoch 7/20\n",
            "776/776 [==============================] - 12s 15ms/step - loss: 0.0966 - accuracy: 0.9663 - val_loss: 0.1162 - val_accuracy: 0.9630\n",
            "Epoch 8/20\n",
            "776/776 [==============================] - 12s 15ms/step - loss: 0.0900 - accuracy: 0.9676 - val_loss: 0.1151 - val_accuracy: 0.9644\n",
            "Epoch 9/20\n",
            "776/776 [==============================] - 12s 15ms/step - loss: 0.0803 - accuracy: 0.9701 - val_loss: 0.1159 - val_accuracy: 0.9644\n",
            "Epoch 10/20\n",
            "776/776 [==============================] - 12s 15ms/step - loss: 0.0732 - accuracy: 0.9728 - val_loss: 0.1266 - val_accuracy: 0.9593\n",
            "Epoch 11/20\n",
            "776/776 [==============================] - 12s 15ms/step - loss: 0.0634 - accuracy: 0.9776 - val_loss: 0.1320 - val_accuracy: 0.9648\n",
            "Epoch 12/20\n",
            "776/776 [==============================] - 12s 15ms/step - loss: 0.0545 - accuracy: 0.9802 - val_loss: 0.1633 - val_accuracy: 0.9575\n",
            "Epoch 13/20\n",
            "776/776 [==============================] - 12s 15ms/step - loss: 0.0467 - accuracy: 0.9821 - val_loss: 0.2265 - val_accuracy: 0.9564\n",
            "Epoch 14/20\n",
            "776/776 [==============================] - 12s 15ms/step - loss: 0.0402 - accuracy: 0.9856 - val_loss: 0.2110 - val_accuracy: 0.9437\n",
            "Epoch 15/20\n",
            "776/776 [==============================] - 12s 15ms/step - loss: 0.0321 - accuracy: 0.9883 - val_loss: 0.1990 - val_accuracy: 0.9572\n",
            "Epoch 16/20\n",
            "776/776 [==============================] - 12s 15ms/step - loss: 0.0317 - accuracy: 0.9889 - val_loss: 0.2076 - val_accuracy: 0.9586\n",
            "Epoch 17/20\n",
            "776/776 [==============================] - 12s 15ms/step - loss: 0.0265 - accuracy: 0.9910 - val_loss: 0.2002 - val_accuracy: 0.9597\n",
            "Epoch 18/20\n",
            "776/776 [==============================] - 12s 15ms/step - loss: 0.0198 - accuracy: 0.9931 - val_loss: 0.2609 - val_accuracy: 0.9564\n",
            "Epoch 19/20\n",
            "776/776 [==============================] - 12s 15ms/step - loss: 0.0238 - accuracy: 0.9913 - val_loss: 0.2386 - val_accuracy: 0.9601\n",
            "Epoch 20/20\n",
            "776/776 [==============================] - 12s 15ms/step - loss: 0.0199 - accuracy: 0.9934 - val_loss: 0.2885 - val_accuracy: 0.9604\n"
          ],
          "name": "stdout"
        }
      ]
    },
    {
      "cell_type": "code",
      "metadata": {
        "id": "f29OlqCOQXML"
      },
      "source": [
        "model.save(\"/content/drive/My Drive/Colab Notebooks/Baselinenet_reg64/BaselineNetReg64.h5\")"
      ],
      "execution_count": null,
      "outputs": []
    },
    {
      "cell_type": "code",
      "metadata": {
        "id": "Sh0f3MmqRFdP"
      },
      "source": [
        "from sklearn.metrics import confusion_matrix\n",
        "pred = model.predict(x_test)\n",
        "pred = np.argmax(pred,axis = 1) \n",
        "y_true = np.argmax(y_test,axis = 1)"
      ],
      "execution_count": null,
      "outputs": []
    },
    {
      "cell_type": "code",
      "metadata": {
        "id": "XSvlDuYNRGAG",
        "colab": {
          "base_uri": "https://localhost:8080/",
          "height": 334
        },
        "outputId": "e5996c04-cf32-434a-d423-3b985014c0e5"
      },
      "source": [
        "CM = confusion_matrix(y_true, pred)\n",
        "from mlxtend.plotting import plot_confusion_matrix\n",
        "fig, ax = plot_confusion_matrix(conf_mat=CM ,  figsize=(5, 5))\n",
        "plt.show()"
      ],
      "execution_count": null,
      "outputs": [
        {
          "output_type": "display_data",
          "data": {
            "image/png": "[encoded data removed]",
            "text/plain": [
              "<Figure size 360x360 with 1 Axes>"
            ]
          },
          "metadata": {
            "tags": [],
            "needs_background": "light"
          }
        }
      ]
    }
  ]
}